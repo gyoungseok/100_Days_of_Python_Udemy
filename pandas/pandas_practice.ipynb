{
 "cells": [
  {
   "cell_type": "code",
   "execution_count": 2,
   "id": "e8e30689",
   "metadata": {
    "ExecuteTime": {
     "end_time": "2022-12-03T05:36:18.829906Z",
     "start_time": "2022-12-03T05:36:18.645712Z"
    }
   },
   "outputs": [],
   "source": [
    "import pandas as pd\n",
    "import numpy as np\n",
    "import matplotlib.pyplot as plt"
   ]
  },
  {
   "cell_type": "markdown",
   "id": "b0e9cfb1",
   "metadata": {},
   "source": [
    "# pandas 데이터 구조\n",
    "* series 1차원 배열구조\n",
    "* dataframe 2차원 자료구조"
   ]
  },
  {
   "cell_type": "markdown",
   "id": "755767a1",
   "metadata": {},
   "source": [
    "# Series"
   ]
  },
  {
   "cell_type": "code",
   "execution_count": 4,
   "id": "4b042e3f",
   "metadata": {
    "ExecuteTime": {
     "end_time": "2022-12-03T05:40:01.125108Z",
     "start_time": "2022-12-03T05:40:01.118256Z"
    }
   },
   "outputs": [
    {
     "name": "stdout",
     "output_type": "stream",
     "text": [
      "0    3\n",
      "1   -5\n",
      "2    7\n",
      "3    4\n",
      "dtype: int64\n",
      "<class 'pandas.core.series.Series'>\n"
     ]
    }
   ],
   "source": [
    "s = pd.Series([3,-5,7,4]) # 인덱스 없이 생성\n",
    "print(s)\n",
    "print(type(s))"
   ]
  },
  {
   "cell_type": "markdown",
   "id": "ce85df87",
   "metadata": {
    "ExecuteTime": {
     "end_time": "2022-12-03T05:42:07.007362Z",
     "start_time": "2022-12-03T05:42:07.002407Z"
    }
   },
   "source": [
    "* 인덱스를 특별히 지정하지 않으면, numpy 다차원배열처럼 0부터 인덱스가 시작\n",
    "* numpy 다차원 배열과 다르게 series는 인덱스 지정이 가능하고, 숫자나 문자가 가능하다"
   ]
  },
  {
   "cell_type": "code",
   "execution_count": 7,
   "id": "79ba1800",
   "metadata": {
    "ExecuteTime": {
     "end_time": "2022-12-03T05:43:02.998754Z",
     "start_time": "2022-12-03T05:43:02.988247Z"
    }
   },
   "outputs": [
    {
     "data": {
      "text/plain": [
       "a    3\n",
       "b   -5\n",
       "c    7\n",
       "d    4\n",
       "dtype: int64"
      ]
     },
     "execution_count": 7,
     "metadata": {},
     "output_type": "execute_result"
    }
   ],
   "source": [
    "s = pd.Series([3,-5,7,4], index=['a','b','c','d'])\n",
    "s"
   ]
  },
  {
   "cell_type": "markdown",
   "id": "24ebd52f",
   "metadata": {},
   "source": [
    "# 속성"
   ]
  },
  {
   "cell_type": "code",
   "execution_count": 8,
   "id": "000c4f14",
   "metadata": {
    "ExecuteTime": {
     "end_time": "2022-12-03T05:44:22.661176Z",
     "start_time": "2022-12-03T05:44:22.656122Z"
    }
   },
   "outputs": [
    {
     "data": {
      "text/plain": [
       "Index(['a', 'b', 'c', 'd'], dtype='object')"
      ]
     },
     "execution_count": 8,
     "metadata": {},
     "output_type": "execute_result"
    }
   ],
   "source": [
    "s.index"
   ]
  },
  {
   "cell_type": "code",
   "execution_count": 9,
   "id": "81fa0dab",
   "metadata": {
    "ExecuteTime": {
     "end_time": "2022-12-03T05:44:26.524958Z",
     "start_time": "2022-12-03T05:44:26.520540Z"
    }
   },
   "outputs": [
    {
     "data": {
      "text/plain": [
       "array([ 3, -5,  7,  4])"
      ]
     },
     "execution_count": 9,
     "metadata": {},
     "output_type": "execute_result"
    }
   ],
   "source": [
    "s.values"
   ]
  },
  {
   "cell_type": "markdown",
   "id": "901d3cc0",
   "metadata": {},
   "source": [
    "# 인덱싱\n",
    "* '조회' 개념과 비슷"
   ]
  },
  {
   "cell_type": "code",
   "execution_count": 10,
   "id": "e32b042e",
   "metadata": {
    "ExecuteTime": {
     "end_time": "2022-12-03T05:45:34.454227Z",
     "start_time": "2022-12-03T05:45:34.447766Z"
    }
   },
   "outputs": [
    {
     "data": {
      "text/plain": [
       "3"
      ]
     },
     "execution_count": 10,
     "metadata": {},
     "output_type": "execute_result"
    }
   ],
   "source": [
    "# index명으로 조회\n",
    "s['a']"
   ]
  },
  {
   "cell_type": "code",
   "execution_count": 11,
   "id": "0ade4f0c",
   "metadata": {
    "ExecuteTime": {
     "end_time": "2022-12-03T05:45:43.012361Z",
     "start_time": "2022-12-03T05:45:43.008143Z"
    }
   },
   "outputs": [
    {
     "data": {
      "text/plain": [
       "3"
      ]
     },
     "execution_count": 11,
     "metadata": {},
     "output_type": "execute_result"
    }
   ],
   "source": [
    "# index 순서로 조회\n",
    "s[0]"
   ]
  },
  {
   "cell_type": "code",
   "execution_count": 12,
   "id": "f85da4bd",
   "metadata": {
    "ExecuteTime": {
     "end_time": "2022-12-03T05:49:54.555341Z",
     "start_time": "2022-12-03T05:49:54.548375Z"
    }
   },
   "outputs": [
    {
     "data": {
      "text/plain": [
       "a    300\n",
       "b   -500\n",
       "c    700\n",
       "d    400\n",
       "dtype: int64"
      ]
     },
     "execution_count": 12,
     "metadata": {},
     "output_type": "execute_result"
    }
   ],
   "source": [
    "s * 100 "
   ]
  },
  {
   "cell_type": "markdown",
   "id": "a97fbffc",
   "metadata": {},
   "source": [
    "# 인덱스가 문자열로 저장된 숫자일 경우\n",
    "* 정수형 으로 인덱스 지정을 권장\n",
    "* 1이 아닌 0부터 인덱스를 지정"
   ]
  },
  {
   "cell_type": "code",
   "execution_count": 13,
   "id": "031765df",
   "metadata": {
    "ExecuteTime": {
     "end_time": "2022-12-03T05:51:06.143462Z",
     "start_time": "2022-12-03T05:51:06.137219Z"
    }
   },
   "outputs": [
    {
     "data": {
      "text/plain": [
       "1    1\n",
       "2    2\n",
       "3    3\n",
       "4    4\n",
       "dtype: int64"
      ]
     },
     "execution_count": 13,
     "metadata": {},
     "output_type": "execute_result"
    }
   ],
   "source": [
    "sr = pd.Series([1,2,3,4], index=['1','2','3','4'])\n",
    "sr"
   ]
  },
  {
   "cell_type": "code",
   "execution_count": 14,
   "id": "770fe417",
   "metadata": {
    "ExecuteTime": {
     "end_time": "2022-12-03T05:52:19.106976Z",
     "start_time": "2022-12-03T05:52:19.102769Z"
    }
   },
   "outputs": [
    {
     "data": {
      "text/plain": [
       "1"
      ]
     },
     "execution_count": 14,
     "metadata": {},
     "output_type": "execute_result"
    }
   ],
   "source": [
    "# index명으로 접근\n",
    "sr['1']"
   ]
  },
  {
   "cell_type": "code",
   "execution_count": 15,
   "id": "a2170281",
   "metadata": {
    "ExecuteTime": {
     "end_time": "2022-12-03T05:52:22.206038Z",
     "start_time": "2022-12-03T05:52:22.201879Z"
    }
   },
   "outputs": [
    {
     "data": {
      "text/plain": [
       "2"
      ]
     },
     "execution_count": 15,
     "metadata": {},
     "output_type": "execute_result"
    }
   ],
   "source": [
    "# index 순서로 접근\n",
    "sr[1]"
   ]
  },
  {
   "cell_type": "markdown",
   "id": "79ed3b25",
   "metadata": {},
   "source": [
    "# Dataframe"
   ]
  },
  {
   "cell_type": "code",
   "execution_count": 17,
   "id": "a0b01927",
   "metadata": {
    "ExecuteTime": {
     "end_time": "2022-12-03T05:58:28.241293Z",
     "start_time": "2022-12-03T05:58:28.227894Z"
    }
   },
   "outputs": [
    {
     "data": {
      "text/html": [
       "<div>\n",
       "<style scoped>\n",
       "    .dataframe tbody tr th:only-of-type {\n",
       "        vertical-align: middle;\n",
       "    }\n",
       "\n",
       "    .dataframe tbody tr th {\n",
       "        vertical-align: top;\n",
       "    }\n",
       "\n",
       "    .dataframe thead th {\n",
       "        text-align: right;\n",
       "    }\n",
       "</style>\n",
       "<table border=\"1\" class=\"dataframe\">\n",
       "  <thead>\n",
       "    <tr style=\"text-align: right;\">\n",
       "      <th></th>\n",
       "      <th>Country</th>\n",
       "      <th>Capital</th>\n",
       "      <th>Population</th>\n",
       "    </tr>\n",
       "  </thead>\n",
       "  <tbody>\n",
       "    <tr>\n",
       "      <th>0</th>\n",
       "      <td>Belgium</td>\n",
       "      <td>Brussels</td>\n",
       "      <td>11190846</td>\n",
       "    </tr>\n",
       "    <tr>\n",
       "      <th>1</th>\n",
       "      <td>India</td>\n",
       "      <td>New Delhi</td>\n",
       "      <td>1303171035</td>\n",
       "    </tr>\n",
       "    <tr>\n",
       "      <th>2</th>\n",
       "      <td>Brazil</td>\n",
       "      <td>Brasília</td>\n",
       "      <td>207847528</td>\n",
       "    </tr>\n",
       "  </tbody>\n",
       "</table>\n",
       "</div>"
      ],
      "text/plain": [
       "   Country    Capital  Population\n",
       "0  Belgium   Brussels    11190846\n",
       "1    India  New Delhi  1303171035\n",
       "2   Brazil   Brasília   207847528"
      ]
     },
     "execution_count": 17,
     "metadata": {},
     "output_type": "execute_result"
    }
   ],
   "source": [
    "# 중첩된 리스트\n",
    "data = [['Belgium', 'Brussels', 11190846],\n",
    "        ['India', 'New Delhi', 1303171035],\n",
    "        ['Brazil', 'Brasília', 207847528]]\n",
    "# df로 변환\n",
    "df = pd.DataFrame(data, columns=['Country', 'Capital', 'Population']) # 컬럼명을 명시\n",
    "df\n"
   ]
  },
  {
   "cell_type": "markdown",
   "id": "1a56565d",
   "metadata": {},
   "source": [
    "* dataframe 데이터는 딕셔너리 타입으로 넘겨주는 것이 일반적이다.\n",
    "* 동일한 데이터 타입끼리 함께 묶어서 넘겨줄 수 있기 때문"
   ]
  },
  {
   "cell_type": "code",
   "execution_count": 18,
   "id": "0ece8d82",
   "metadata": {
    "ExecuteTime": {
     "end_time": "2022-12-03T05:59:58.899534Z",
     "start_time": "2022-12-03T05:59:58.887838Z"
    }
   },
   "outputs": [
    {
     "data": {
      "text/html": [
       "<div>\n",
       "<style scoped>\n",
       "    .dataframe tbody tr th:only-of-type {\n",
       "        vertical-align: middle;\n",
       "    }\n",
       "\n",
       "    .dataframe tbody tr th {\n",
       "        vertical-align: top;\n",
       "    }\n",
       "\n",
       "    .dataframe thead th {\n",
       "        text-align: right;\n",
       "    }\n",
       "</style>\n",
       "<table border=\"1\" class=\"dataframe\">\n",
       "  <thead>\n",
       "    <tr style=\"text-align: right;\">\n",
       "      <th></th>\n",
       "      <th>Country</th>\n",
       "      <th>Capital</th>\n",
       "      <th>Population</th>\n",
       "    </tr>\n",
       "  </thead>\n",
       "  <tbody>\n",
       "    <tr>\n",
       "      <th>0</th>\n",
       "      <td>Belgium</td>\n",
       "      <td>Brussels</td>\n",
       "      <td>11190846</td>\n",
       "    </tr>\n",
       "    <tr>\n",
       "      <th>1</th>\n",
       "      <td>India</td>\n",
       "      <td>New Delhi</td>\n",
       "      <td>1303171035</td>\n",
       "    </tr>\n",
       "    <tr>\n",
       "      <th>2</th>\n",
       "      <td>Brazil</td>\n",
       "      <td>Brasília</td>\n",
       "      <td>207847528</td>\n",
       "    </tr>\n",
       "  </tbody>\n",
       "</table>\n",
       "</div>"
      ],
      "text/plain": [
       "   Country    Capital  Population\n",
       "0  Belgium   Brussels    11190846\n",
       "1    India  New Delhi  1303171035\n",
       "2   Brazil   Brasília   207847528"
      ]
     },
     "execution_count": 18,
     "metadata": {},
     "output_type": "execute_result"
    }
   ],
   "source": [
    "# 딕셔너리 타입\n",
    "data = {'Country': ['Belgium', 'India', 'Brazil'],\n",
    "        'Capital': ['Brussels', 'New Delhi', 'Brasília'],\n",
    "        'Population': [11190846, 1303171035, 207847528]}\n",
    "df = pd.DataFrame(data)\n",
    "df"
   ]
  },
  {
   "cell_type": "code",
   "execution_count": 19,
   "id": "e47aae9e",
   "metadata": {
    "ExecuteTime": {
     "end_time": "2022-12-03T06:01:44.247326Z",
     "start_time": "2022-12-03T06:01:44.235754Z"
    }
   },
   "outputs": [
    {
     "data": {
      "text/html": [
       "<div>\n",
       "<style scoped>\n",
       "    .dataframe tbody tr th:only-of-type {\n",
       "        vertical-align: middle;\n",
       "    }\n",
       "\n",
       "    .dataframe tbody tr th {\n",
       "        vertical-align: top;\n",
       "    }\n",
       "\n",
       "    .dataframe thead th {\n",
       "        text-align: right;\n",
       "    }\n",
       "</style>\n",
       "<table border=\"1\" class=\"dataframe\">\n",
       "  <thead>\n",
       "    <tr style=\"text-align: right;\">\n",
       "      <th></th>\n",
       "      <th>Country</th>\n",
       "      <th>Capital</th>\n",
       "      <th>Population</th>\n",
       "    </tr>\n",
       "  </thead>\n",
       "  <tbody>\n",
       "    <tr>\n",
       "      <th>aa</th>\n",
       "      <td>Belgium</td>\n",
       "      <td>Brussels</td>\n",
       "      <td>11190846</td>\n",
       "    </tr>\n",
       "    <tr>\n",
       "      <th>bb</th>\n",
       "      <td>India</td>\n",
       "      <td>New Delhi</td>\n",
       "      <td>1303171035</td>\n",
       "    </tr>\n",
       "    <tr>\n",
       "      <th>cc</th>\n",
       "      <td>Brazil</td>\n",
       "      <td>Brasília</td>\n",
       "      <td>207847528</td>\n",
       "    </tr>\n",
       "  </tbody>\n",
       "</table>\n",
       "</div>"
      ],
      "text/plain": [
       "    Country    Capital  Population\n",
       "aa  Belgium   Brussels    11190846\n",
       "bb    India  New Delhi  1303171035\n",
       "cc   Brazil   Brasília   207847528"
      ]
     },
     "execution_count": 19,
     "metadata": {},
     "output_type": "execute_result"
    }
   ],
   "source": [
    "# 인덱스 변경 가능\n",
    "df_2 = pd.DataFrame(data, index=['aa','bb','cc'])\n",
    "df_2"
   ]
  },
  {
   "cell_type": "code",
   "execution_count": 20,
   "id": "6a087785",
   "metadata": {
    "ExecuteTime": {
     "end_time": "2022-12-03T06:02:00.405420Z",
     "start_time": "2022-12-03T06:02:00.401172Z"
    }
   },
   "outputs": [
    {
     "data": {
      "text/plain": [
       "pandas.core.frame.DataFrame"
      ]
     },
     "execution_count": 20,
     "metadata": {},
     "output_type": "execute_result"
    }
   ],
   "source": [
    "type(df)"
   ]
  },
  {
   "cell_type": "code",
   "execution_count": 22,
   "id": "8951697c",
   "metadata": {
    "ExecuteTime": {
     "end_time": "2022-12-03T06:02:34.854687Z",
     "start_time": "2022-12-03T06:02:34.850318Z"
    }
   },
   "outputs": [
    {
     "name": "stdout",
     "output_type": "stream",
     "text": [
      "0    Belgium\n",
      "1      India\n",
      "2     Brazil\n",
      "Name: Country, dtype: object\n",
      "<class 'pandas.core.series.Series'>\n"
     ]
    }
   ],
   "source": [
    "print(df['Country'])\n",
    "print(type(df['Country']))"
   ]
  },
  {
   "cell_type": "markdown",
   "id": "665b848f",
   "metadata": {},
   "source": [
    "# 속성"
   ]
  },
  {
   "cell_type": "code",
   "execution_count": 23,
   "id": "954c4f0e",
   "metadata": {
    "ExecuteTime": {
     "end_time": "2022-12-03T06:03:06.633702Z",
     "start_time": "2022-12-03T06:03:06.629634Z"
    }
   },
   "outputs": [
    {
     "data": {
      "text/plain": [
       "RangeIndex(start=0, stop=3, step=1)"
      ]
     },
     "execution_count": 23,
     "metadata": {},
     "output_type": "execute_result"
    }
   ],
   "source": [
    "df.index"
   ]
  },
  {
   "cell_type": "code",
   "execution_count": 24,
   "id": "f4dd6036",
   "metadata": {
    "ExecuteTime": {
     "end_time": "2022-12-03T06:03:25.985629Z",
     "start_time": "2022-12-03T06:03:25.979378Z"
    }
   },
   "outputs": [
    {
     "data": {
      "text/plain": [
       "Index(['Country', 'Capital', 'Population'], dtype='object')"
      ]
     },
     "execution_count": 24,
     "metadata": {},
     "output_type": "execute_result"
    }
   ],
   "source": [
    "df.columns"
   ]
  },
  {
   "cell_type": "code",
   "execution_count": 25,
   "id": "5db4370a",
   "metadata": {
    "ExecuteTime": {
     "end_time": "2022-12-03T06:03:33.186234Z",
     "start_time": "2022-12-03T06:03:33.180780Z"
    }
   },
   "outputs": [
    {
     "data": {
      "text/plain": [
       "Country       object\n",
       "Capital       object\n",
       "Population     int64\n",
       "dtype: object"
      ]
     },
     "execution_count": 25,
     "metadata": {},
     "output_type": "execute_result"
    }
   ],
   "source": [
    "df.dtypes"
   ]
  },
  {
   "cell_type": "code",
   "execution_count": 26,
   "id": "65d5a95a",
   "metadata": {
    "ExecuteTime": {
     "end_time": "2022-12-03T06:03:51.407135Z",
     "start_time": "2022-12-03T06:03:51.400077Z"
    }
   },
   "outputs": [
    {
     "data": {
      "text/plain": [
       "array([['Belgium', 'Brussels', 11190846],\n",
       "       ['India', 'New Delhi', 1303171035],\n",
       "       ['Brazil', 'Brasília', 207847528]], dtype=object)"
      ]
     },
     "execution_count": 26,
     "metadata": {},
     "output_type": "execute_result"
    }
   ],
   "source": [
    "df.values"
   ]
  },
  {
   "cell_type": "code",
   "execution_count": 27,
   "id": "22c441b6",
   "metadata": {
    "ExecuteTime": {
     "end_time": "2022-12-03T06:03:57.753323Z",
     "start_time": "2022-12-03T06:03:57.735387Z"
    }
   },
   "outputs": [
    {
     "name": "stdout",
     "output_type": "stream",
     "text": [
      "<class 'pandas.core.frame.DataFrame'>\n",
      "RangeIndex: 3 entries, 0 to 2\n",
      "Data columns (total 3 columns):\n",
      " #   Column      Non-Null Count  Dtype \n",
      "---  ------      --------------  ----- \n",
      " 0   Country     3 non-null      object\n",
      " 1   Capital     3 non-null      object\n",
      " 2   Population  3 non-null      int64 \n",
      "dtypes: int64(1), object(2)\n",
      "memory usage: 200.0+ bytes\n"
     ]
    }
   ],
   "source": [
    "df.info()"
   ]
  },
  {
   "cell_type": "code",
   "execution_count": 52,
   "id": "9b898404",
   "metadata": {
    "ExecuteTime": {
     "end_time": "2022-12-03T06:16:25.769871Z",
     "start_time": "2022-12-03T06:16:25.760139Z"
    }
   },
   "outputs": [
    {
     "data": {
      "text/html": [
       "<div>\n",
       "<style scoped>\n",
       "    .dataframe tbody tr th:only-of-type {\n",
       "        vertical-align: middle;\n",
       "    }\n",
       "\n",
       "    .dataframe tbody tr th {\n",
       "        vertical-align: top;\n",
       "    }\n",
       "\n",
       "    .dataframe thead th {\n",
       "        text-align: right;\n",
       "    }\n",
       "</style>\n",
       "<table border=\"1\" class=\"dataframe\">\n",
       "  <thead>\n",
       "    <tr style=\"text-align: right;\">\n",
       "      <th></th>\n",
       "      <th>Capital</th>\n",
       "      <th>Population</th>\n",
       "    </tr>\n",
       "    <tr>\n",
       "      <th>Country</th>\n",
       "      <th></th>\n",
       "      <th></th>\n",
       "    </tr>\n",
       "  </thead>\n",
       "  <tbody>\n",
       "    <tr>\n",
       "      <th>Belgium</th>\n",
       "      <td>Brussels</td>\n",
       "      <td>11190846</td>\n",
       "    </tr>\n",
       "    <tr>\n",
       "      <th>India</th>\n",
       "      <td>New Delhi</td>\n",
       "      <td>1303171035</td>\n",
       "    </tr>\n",
       "    <tr>\n",
       "      <th>Brazil</th>\n",
       "      <td>Brasília</td>\n",
       "      <td>207847528</td>\n",
       "    </tr>\n",
       "  </tbody>\n",
       "</table>\n",
       "</div>"
      ],
      "text/plain": [
       "           Capital  Population\n",
       "Country                       \n",
       "Belgium   Brussels    11190846\n",
       "India    New Delhi  1303171035\n",
       "Brazil    Brasília   207847528"
      ]
     },
     "execution_count": 52,
     "metadata": {},
     "output_type": "execute_result"
    }
   ],
   "source": [
    "# 특정 컬럼을 index로 사용할 수 있다.\n",
    "df_index_with_country = df.set_index('Country')\n",
    "df_index_with_country"
   ]
  },
  {
   "cell_type": "code",
   "execution_count": 31,
   "id": "9230af18",
   "metadata": {
    "ExecuteTime": {
     "end_time": "2022-12-03T06:08:04.236424Z",
     "start_time": "2022-12-03T06:08:04.222918Z"
    }
   },
   "outputs": [
    {
     "data": {
      "text/html": [
       "<div>\n",
       "<style scoped>\n",
       "    .dataframe tbody tr th:only-of-type {\n",
       "        vertical-align: middle;\n",
       "    }\n",
       "\n",
       "    .dataframe tbody tr th {\n",
       "        vertical-align: top;\n",
       "    }\n",
       "\n",
       "    .dataframe thead th {\n",
       "        text-align: right;\n",
       "    }\n",
       "</style>\n",
       "<table border=\"1\" class=\"dataframe\">\n",
       "  <thead>\n",
       "    <tr style=\"text-align: right;\">\n",
       "      <th></th>\n",
       "      <th></th>\n",
       "      <th>Population</th>\n",
       "    </tr>\n",
       "    <tr>\n",
       "      <th>Country</th>\n",
       "      <th>Capital</th>\n",
       "      <th></th>\n",
       "    </tr>\n",
       "  </thead>\n",
       "  <tbody>\n",
       "    <tr>\n",
       "      <th>Belgium</th>\n",
       "      <th>Brussels</th>\n",
       "      <td>11190846</td>\n",
       "    </tr>\n",
       "    <tr>\n",
       "      <th>India</th>\n",
       "      <th>New Delhi</th>\n",
       "      <td>1303171035</td>\n",
       "    </tr>\n",
       "    <tr>\n",
       "      <th>Brazil</th>\n",
       "      <th>Brasília</th>\n",
       "      <td>207847528</td>\n",
       "    </tr>\n",
       "  </tbody>\n",
       "</table>\n",
       "</div>"
      ],
      "text/plain": [
       "                   Population\n",
       "Country Capital              \n",
       "Belgium Brussels     11190846\n",
       "India   New Delhi  1303171035\n",
       "Brazil  Brasília    207847528"
      ]
     },
     "execution_count": 31,
     "metadata": {},
     "output_type": "execute_result"
    }
   ],
   "source": [
    "# 인덱스는 한개 이상도 가능하다.\n",
    "# ['Country','Capital']\n",
    "df_index_with_country = df.set_index(['Country','Capital'])\n",
    "df_index_with_country"
   ]
  },
  {
   "cell_type": "code",
   "execution_count": 35,
   "id": "05936f6d",
   "metadata": {
    "ExecuteTime": {
     "end_time": "2022-12-03T06:09:18.069234Z",
     "start_time": "2022-12-03T06:09:18.060789Z"
    }
   },
   "outputs": [
    {
     "data": {
      "text/html": [
       "<div>\n",
       "<style scoped>\n",
       "    .dataframe tbody tr th:only-of-type {\n",
       "        vertical-align: middle;\n",
       "    }\n",
       "\n",
       "    .dataframe tbody tr th {\n",
       "        vertical-align: top;\n",
       "    }\n",
       "\n",
       "    .dataframe thead th {\n",
       "        text-align: right;\n",
       "    }\n",
       "</style>\n",
       "<table border=\"1\" class=\"dataframe\">\n",
       "  <thead>\n",
       "    <tr style=\"text-align: right;\">\n",
       "      <th></th>\n",
       "      <th></th>\n",
       "      <th>Population</th>\n",
       "    </tr>\n",
       "    <tr>\n",
       "      <th>Country</th>\n",
       "      <th>Capital</th>\n",
       "      <th></th>\n",
       "    </tr>\n",
       "  </thead>\n",
       "  <tbody>\n",
       "    <tr>\n",
       "      <th rowspan=\"2\" valign=\"top\">India</th>\n",
       "      <th>New Delhi</th>\n",
       "      <td>1303171035</td>\n",
       "    </tr>\n",
       "    <tr>\n",
       "      <th>New Delhi</th>\n",
       "      <td>1303171035</td>\n",
       "    </tr>\n",
       "  </tbody>\n",
       "</table>\n",
       "</div>"
      ],
      "text/plain": [
       "                   Population\n",
       "Country Capital              \n",
       "India   New Delhi  1303171035\n",
       "        New Delhi  1303171035"
      ]
     },
     "execution_count": 35,
     "metadata": {},
     "output_type": "execute_result"
    }
   ],
   "source": [
    "# indexing\n",
    "df_index_with_country.loc[['India','India']]"
   ]
  },
  {
   "cell_type": "code",
   "execution_count": 36,
   "id": "44eca753",
   "metadata": {
    "ExecuteTime": {
     "end_time": "2022-12-03T06:10:45.813093Z",
     "start_time": "2022-12-03T06:10:45.799021Z"
    }
   },
   "outputs": [
    {
     "data": {
      "text/html": [
       "<div>\n",
       "<style scoped>\n",
       "    .dataframe tbody tr th:only-of-type {\n",
       "        vertical-align: middle;\n",
       "    }\n",
       "\n",
       "    .dataframe tbody tr th {\n",
       "        vertical-align: top;\n",
       "    }\n",
       "\n",
       "    .dataframe thead th {\n",
       "        text-align: right;\n",
       "    }\n",
       "</style>\n",
       "<table border=\"1\" class=\"dataframe\">\n",
       "  <thead>\n",
       "    <tr style=\"text-align: right;\">\n",
       "      <th></th>\n",
       "      <th>col1</th>\n",
       "      <th>col2</th>\n",
       "      <th>col3</th>\n",
       "    </tr>\n",
       "  </thead>\n",
       "  <tbody>\n",
       "    <tr>\n",
       "      <th>A</th>\n",
       "      <td>1</td>\n",
       "      <td>5</td>\n",
       "      <td>9</td>\n",
       "    </tr>\n",
       "    <tr>\n",
       "      <th>B</th>\n",
       "      <td>2</td>\n",
       "      <td>6</td>\n",
       "      <td>10</td>\n",
       "    </tr>\n",
       "    <tr>\n",
       "      <th>C</th>\n",
       "      <td>3</td>\n",
       "      <td>7</td>\n",
       "      <td>11</td>\n",
       "    </tr>\n",
       "    <tr>\n",
       "      <th>D</th>\n",
       "      <td>4</td>\n",
       "      <td>8</td>\n",
       "      <td>12</td>\n",
       "    </tr>\n",
       "  </tbody>\n",
       "</table>\n",
       "</div>"
      ],
      "text/plain": [
       "   col1  col2  col3\n",
       "A     1     5     9\n",
       "B     2     6    10\n",
       "C     3     7    11\n",
       "D     4     8    12"
      ]
     },
     "execution_count": 36,
     "metadata": {},
     "output_type": "execute_result"
    }
   ],
   "source": [
    "# series를 통해서도 dataframe을 생성할 수 있다.\n",
    "\n",
    "s_1 = pd.Series([1, 2, 3, 4], index=['A', 'B', 'C', 'D'])\n",
    "s_2 = pd.Series([5, 6, 7, 8], index=['A', 'B', 'C', 'D'])\n",
    "s_3 = pd.Series([9, 10, 11, 12], index=['A', 'B', 'C', 'D'])\n",
    "\n",
    "data = {'col1': s_1,\n",
    "        'col2': s_2,\n",
    "        'col3': s_3}\n",
    "\n",
    "df_4 = pd.DataFrame(data, index=['A', 'B', 'C', 'D'])\n",
    "\n",
    "df_4"
   ]
  },
  {
   "cell_type": "markdown",
   "id": "52db3fe6",
   "metadata": {},
   "source": [
    "# numpy ndarray와 비교"
   ]
  },
  {
   "cell_type": "markdown",
   "id": "7789729d",
   "metadata": {},
   "source": [
    "## 공통점"
   ]
  },
  {
   "cell_type": "code",
   "execution_count": 37,
   "id": "02691ae0",
   "metadata": {
    "ExecuteTime": {
     "end_time": "2022-12-03T06:11:18.400305Z",
     "start_time": "2022-12-03T06:11:18.393704Z"
    }
   },
   "outputs": [
    {
     "data": {
      "text/plain": [
       "a    3\n",
       "b   -5\n",
       "c    7\n",
       "d    4\n",
       "dtype: int64"
      ]
     },
     "execution_count": 37,
     "metadata": {},
     "output_type": "execute_result"
    }
   ],
   "source": [
    "s"
   ]
  },
  {
   "cell_type": "code",
   "execution_count": 39,
   "id": "ad7acda6",
   "metadata": {
    "ExecuteTime": {
     "end_time": "2022-12-03T06:11:31.395406Z",
     "start_time": "2022-12-03T06:11:31.389815Z"
    }
   },
   "outputs": [
    {
     "data": {
      "text/plain": [
       "a    13\n",
       "b     5\n",
       "c    17\n",
       "d    14\n",
       "dtype: int64"
      ]
     },
     "execution_count": 39,
     "metadata": {},
     "output_type": "execute_result"
    }
   ],
   "source": [
    "s + 10 # series의 특징"
   ]
  },
  {
   "cell_type": "code",
   "execution_count": 40,
   "id": "b15ce8f1",
   "metadata": {
    "ExecuteTime": {
     "end_time": "2022-12-03T06:11:33.635025Z",
     "start_time": "2022-12-03T06:11:33.625663Z"
    }
   },
   "outputs": [
    {
     "data": {
      "text/html": [
       "<div>\n",
       "<style scoped>\n",
       "    .dataframe tbody tr th:only-of-type {\n",
       "        vertical-align: middle;\n",
       "    }\n",
       "\n",
       "    .dataframe tbody tr th {\n",
       "        vertical-align: top;\n",
       "    }\n",
       "\n",
       "    .dataframe thead th {\n",
       "        text-align: right;\n",
       "    }\n",
       "</style>\n",
       "<table border=\"1\" class=\"dataframe\">\n",
       "  <thead>\n",
       "    <tr style=\"text-align: right;\">\n",
       "      <th></th>\n",
       "      <th>Country</th>\n",
       "      <th>Capital</th>\n",
       "      <th>Population</th>\n",
       "    </tr>\n",
       "  </thead>\n",
       "  <tbody>\n",
       "    <tr>\n",
       "      <th>0</th>\n",
       "      <td>Belgium</td>\n",
       "      <td>Brussels</td>\n",
       "      <td>11190846</td>\n",
       "    </tr>\n",
       "    <tr>\n",
       "      <th>1</th>\n",
       "      <td>India</td>\n",
       "      <td>New Delhi</td>\n",
       "      <td>1303171035</td>\n",
       "    </tr>\n",
       "    <tr>\n",
       "      <th>2</th>\n",
       "      <td>Brazil</td>\n",
       "      <td>Brasília</td>\n",
       "      <td>207847528</td>\n",
       "    </tr>\n",
       "  </tbody>\n",
       "</table>\n",
       "</div>"
      ],
      "text/plain": [
       "   Country    Capital  Population\n",
       "0  Belgium   Brussels    11190846\n",
       "1    India  New Delhi  1303171035\n",
       "2   Brazil   Brasília   207847528"
      ]
     },
     "execution_count": 40,
     "metadata": {},
     "output_type": "execute_result"
    }
   ],
   "source": [
    "df"
   ]
  },
  {
   "cell_type": "code",
   "execution_count": 41,
   "id": "954611bb",
   "metadata": {
    "ExecuteTime": {
     "end_time": "2022-12-03T06:11:38.303199Z",
     "start_time": "2022-12-03T06:11:38.297811Z"
    }
   },
   "outputs": [
    {
     "data": {
      "text/plain": [
       "0      11190846\n",
       "1    1303171035\n",
       "2     207847528\n",
       "Name: Population, dtype: int64"
      ]
     },
     "execution_count": 41,
     "metadata": {},
     "output_type": "execute_result"
    }
   ],
   "source": [
    "df['Population']"
   ]
  },
  {
   "cell_type": "code",
   "execution_count": 42,
   "id": "e32e0ea8",
   "metadata": {
    "ExecuteTime": {
     "end_time": "2022-12-03T06:11:45.059820Z",
     "start_time": "2022-12-03T06:11:45.051996Z"
    }
   },
   "outputs": [
    {
     "data": {
      "text/plain": [
       "0      111908.46\n",
       "1    13031710.35\n",
       "2     2078475.28\n",
       "Name: Population, dtype: float64"
      ]
     },
     "execution_count": 42,
     "metadata": {},
     "output_type": "execute_result"
    }
   ],
   "source": [
    "df['Population'] / 100"
   ]
  },
  {
   "cell_type": "code",
   "execution_count": 43,
   "id": "97687f9e",
   "metadata": {
    "ExecuteTime": {
     "end_time": "2022-12-03T06:12:10.175049Z",
     "start_time": "2022-12-03T06:12:10.168130Z"
    }
   },
   "outputs": [
    {
     "data": {
      "text/plain": [
       "0    Belgium\n",
       "1      India\n",
       "2     Brazil\n",
       "Name: Country, dtype: object"
      ]
     },
     "execution_count": 43,
     "metadata": {},
     "output_type": "execute_result"
    }
   ],
   "source": [
    "df['Country']"
   ]
  },
  {
   "cell_type": "code",
   "execution_count": 44,
   "id": "e49e0e0f",
   "metadata": {
    "ExecuteTime": {
     "end_time": "2022-12-03T06:12:14.287334Z",
     "start_time": "2022-12-03T06:12:14.282210Z"
    }
   },
   "outputs": [
    {
     "data": {
      "text/plain": [
       "0     Brussels\n",
       "1    New Delhi\n",
       "2     Brasília\n",
       "Name: Capital, dtype: object"
      ]
     },
     "execution_count": 44,
     "metadata": {},
     "output_type": "execute_result"
    }
   ],
   "source": [
    "df['Capital']"
   ]
  },
  {
   "cell_type": "code",
   "execution_count": 46,
   "id": "85f055cc",
   "metadata": {
    "ExecuteTime": {
     "end_time": "2022-12-03T06:12:57.304045Z",
     "start_time": "2022-12-03T06:12:57.295992Z"
    }
   },
   "outputs": [
    {
     "data": {
      "text/plain": [
       "0    BelgiumBrussels\n",
       "1     IndiaNew Delhi\n",
       "2     BrazilBrasília\n",
       "dtype: object"
      ]
     },
     "execution_count": 46,
     "metadata": {},
     "output_type": "execute_result"
    }
   ],
   "source": [
    "df['Country'] + df['Capital'] # 각 요소간 결합이 발생"
   ]
  },
  {
   "cell_type": "markdown",
   "id": "c21fe04b",
   "metadata": {},
   "source": [
    "## 차이점"
   ]
  },
  {
   "cell_type": "code",
   "execution_count": 47,
   "id": "7fd0c51f",
   "metadata": {
    "ExecuteTime": {
     "end_time": "2022-12-03T06:14:06.250254Z",
     "start_time": "2022-12-03T06:14:06.242521Z"
    }
   },
   "outputs": [
    {
     "data": {
      "text/plain": [
       "a    3\n",
       "b   -5\n",
       "c    7\n",
       "d    4\n",
       "dtype: int64"
      ]
     },
     "execution_count": 47,
     "metadata": {},
     "output_type": "execute_result"
    }
   ],
   "source": [
    "# series간 연산을 하는 경우 index를 기반으로 이루어짐\n",
    "s"
   ]
  },
  {
   "cell_type": "code",
   "execution_count": 48,
   "id": "822764e1",
   "metadata": {
    "ExecuteTime": {
     "end_time": "2022-12-03T06:14:27.089629Z",
     "start_time": "2022-12-03T06:14:27.083529Z"
    }
   },
   "outputs": [
    {
     "data": {
      "text/plain": [
       "a    3\n",
       "b   -5\n",
       "dtype: int64"
      ]
     },
     "execution_count": 48,
     "metadata": {},
     "output_type": "execute_result"
    }
   ],
   "source": [
    "s1 = s[['a', 'b']]\n",
    "s1"
   ]
  },
  {
   "cell_type": "code",
   "execution_count": 49,
   "id": "6788f828",
   "metadata": {
    "ExecuteTime": {
     "end_time": "2022-12-03T06:14:37.964589Z",
     "start_time": "2022-12-03T06:14:37.957142Z"
    }
   },
   "outputs": [
    {
     "data": {
      "text/plain": [
       "b   -5\n",
       "c    7\n",
       "dtype: int64"
      ]
     },
     "execution_count": 49,
     "metadata": {},
     "output_type": "execute_result"
    }
   ],
   "source": [
    "s2 = s[['b', 'c']]\n",
    "s2"
   ]
  },
  {
   "cell_type": "code",
   "execution_count": 50,
   "id": "a868db68",
   "metadata": {
    "ExecuteTime": {
     "end_time": "2022-12-03T06:14:51.216753Z",
     "start_time": "2022-12-03T06:14:51.204718Z"
    }
   },
   "outputs": [
    {
     "data": {
      "text/plain": [
       "a     NaN\n",
       "b   -10.0\n",
       "c     NaN\n",
       "dtype: float64"
      ]
     },
     "execution_count": 50,
     "metadata": {},
     "output_type": "execute_result"
    }
   ],
   "source": [
    "s1 + s2"
   ]
  },
  {
   "cell_type": "code",
   "execution_count": 53,
   "id": "57f3327e",
   "metadata": {
    "ExecuteTime": {
     "end_time": "2022-12-03T06:16:29.554393Z",
     "start_time": "2022-12-03T06:16:29.544637Z"
    }
   },
   "outputs": [
    {
     "data": {
      "text/html": [
       "<div>\n",
       "<style scoped>\n",
       "    .dataframe tbody tr th:only-of-type {\n",
       "        vertical-align: middle;\n",
       "    }\n",
       "\n",
       "    .dataframe tbody tr th {\n",
       "        vertical-align: top;\n",
       "    }\n",
       "\n",
       "    .dataframe thead th {\n",
       "        text-align: right;\n",
       "    }\n",
       "</style>\n",
       "<table border=\"1\" class=\"dataframe\">\n",
       "  <thead>\n",
       "    <tr style=\"text-align: right;\">\n",
       "      <th></th>\n",
       "      <th>Capital</th>\n",
       "      <th>Population</th>\n",
       "    </tr>\n",
       "    <tr>\n",
       "      <th>Country</th>\n",
       "      <th></th>\n",
       "      <th></th>\n",
       "    </tr>\n",
       "  </thead>\n",
       "  <tbody>\n",
       "    <tr>\n",
       "      <th>Belgium</th>\n",
       "      <td>Brussels</td>\n",
       "      <td>11190846</td>\n",
       "    </tr>\n",
       "    <tr>\n",
       "      <th>India</th>\n",
       "      <td>New Delhi</td>\n",
       "      <td>1303171035</td>\n",
       "    </tr>\n",
       "    <tr>\n",
       "      <th>Brazil</th>\n",
       "      <td>Brasília</td>\n",
       "      <td>207847528</td>\n",
       "    </tr>\n",
       "  </tbody>\n",
       "</table>\n",
       "</div>"
      ],
      "text/plain": [
       "           Capital  Population\n",
       "Country                       \n",
       "Belgium   Brussels    11190846\n",
       "India    New Delhi  1303171035\n",
       "Brazil    Brasília   207847528"
      ]
     },
     "execution_count": 53,
     "metadata": {},
     "output_type": "execute_result"
    }
   ],
   "source": [
    "# practice\n",
    "# 각 국가의 수도의 인구는 벨기에 인구의 몇배일까?\n",
    "df_index_with_country"
   ]
  },
  {
   "cell_type": "code",
   "execution_count": 56,
   "id": "1e248a96",
   "metadata": {
    "ExecuteTime": {
     "end_time": "2022-12-03T06:19:04.767032Z",
     "start_time": "2022-12-03T06:19:04.760212Z"
    }
   },
   "outputs": [
    {
     "data": {
      "text/plain": [
       "Country\n",
       "Belgium      1.000000\n",
       "India      116.449734\n",
       "Brazil      18.572995\n",
       "Name: Population, dtype: float64"
      ]
     },
     "execution_count": 56,
     "metadata": {},
     "output_type": "execute_result"
    }
   ],
   "source": [
    "df_index_with_country['Population'] / df_index_with_country['Population']['Belgium']"
   ]
  },
  {
   "cell_type": "markdown",
   "id": "8a61aa41",
   "metadata": {},
   "source": [
    "# Pandas Importing/Exporting"
   ]
  },
  {
   "cell_type": "code",
   "execution_count": 57,
   "id": "2c52c95e",
   "metadata": {
    "ExecuteTime": {
     "end_time": "2022-12-03T06:24:42.110208Z",
     "start_time": "2022-12-03T06:24:42.099526Z"
    }
   },
   "outputs": [
    {
     "data": {
      "text/html": [
       "<div>\n",
       "<style scoped>\n",
       "    .dataframe tbody tr th:only-of-type {\n",
       "        vertical-align: middle;\n",
       "    }\n",
       "\n",
       "    .dataframe tbody tr th {\n",
       "        vertical-align: top;\n",
       "    }\n",
       "\n",
       "    .dataframe thead th {\n",
       "        text-align: right;\n",
       "    }\n",
       "</style>\n",
       "<table border=\"1\" class=\"dataframe\">\n",
       "  <thead>\n",
       "    <tr style=\"text-align: right;\">\n",
       "      <th></th>\n",
       "      <th>Country</th>\n",
       "      <th>Capital</th>\n",
       "      <th>Population</th>\n",
       "    </tr>\n",
       "  </thead>\n",
       "  <tbody>\n",
       "    <tr>\n",
       "      <th>0</th>\n",
       "      <td>Belgium</td>\n",
       "      <td>Brussels</td>\n",
       "      <td>11190846</td>\n",
       "    </tr>\n",
       "    <tr>\n",
       "      <th>1</th>\n",
       "      <td>India</td>\n",
       "      <td>New Delhi</td>\n",
       "      <td>1303171035</td>\n",
       "    </tr>\n",
       "    <tr>\n",
       "      <th>2</th>\n",
       "      <td>Brazil</td>\n",
       "      <td>Brasília</td>\n",
       "      <td>207847528</td>\n",
       "    </tr>\n",
       "  </tbody>\n",
       "</table>\n",
       "</div>"
      ],
      "text/plain": [
       "   Country    Capital  Population\n",
       "0  Belgium   Brussels    11190846\n",
       "1    India  New Delhi  1303171035\n",
       "2   Brazil   Brasília   207847528"
      ]
     },
     "execution_count": 57,
     "metadata": {},
     "output_type": "execute_result"
    }
   ],
   "source": [
    "df"
   ]
  },
  {
   "cell_type": "code",
   "execution_count": 61,
   "id": "70208430",
   "metadata": {
    "ExecuteTime": {
     "end_time": "2022-12-03T06:25:31.879126Z",
     "start_time": "2022-12-03T06:25:31.872585Z"
    }
   },
   "outputs": [
    {
     "data": {
      "text/plain": [
       "'{\"Country\":{\"0\":\"Belgium\",\"1\":\"India\",\"2\":\"Brazil\"},\"Capital\":{\"0\":\"Brussels\",\"1\":\"New Delhi\",\"2\":\"Bras\\\\u00edlia\"},\"Population\":{\"0\":11190846,\"1\":1303171035,\"2\":207847528}}'"
      ]
     },
     "execution_count": 61,
     "metadata": {},
     "output_type": "execute_result"
    }
   ],
   "source": [
    "json_data = df.to_json()\n",
    "json_data"
   ]
  },
  {
   "cell_type": "code",
   "execution_count": 62,
   "id": "187758fb",
   "metadata": {
    "ExecuteTime": {
     "end_time": "2022-12-03T06:25:59.589957Z",
     "start_time": "2022-12-03T06:25:59.571016Z"
    }
   },
   "outputs": [
    {
     "data": {
      "text/html": [
       "<div>\n",
       "<style scoped>\n",
       "    .dataframe tbody tr th:only-of-type {\n",
       "        vertical-align: middle;\n",
       "    }\n",
       "\n",
       "    .dataframe tbody tr th {\n",
       "        vertical-align: top;\n",
       "    }\n",
       "\n",
       "    .dataframe thead th {\n",
       "        text-align: right;\n",
       "    }\n",
       "</style>\n",
       "<table border=\"1\" class=\"dataframe\">\n",
       "  <thead>\n",
       "    <tr style=\"text-align: right;\">\n",
       "      <th></th>\n",
       "      <th>Country</th>\n",
       "      <th>Capital</th>\n",
       "      <th>Population</th>\n",
       "    </tr>\n",
       "  </thead>\n",
       "  <tbody>\n",
       "    <tr>\n",
       "      <th>0</th>\n",
       "      <td>Belgium</td>\n",
       "      <td>Brussels</td>\n",
       "      <td>11190846</td>\n",
       "    </tr>\n",
       "    <tr>\n",
       "      <th>1</th>\n",
       "      <td>India</td>\n",
       "      <td>New Delhi</td>\n",
       "      <td>1303171035</td>\n",
       "    </tr>\n",
       "    <tr>\n",
       "      <th>2</th>\n",
       "      <td>Brazil</td>\n",
       "      <td>Brasília</td>\n",
       "      <td>207847528</td>\n",
       "    </tr>\n",
       "  </tbody>\n",
       "</table>\n",
       "</div>"
      ],
      "text/plain": [
       "   Country    Capital  Population\n",
       "0  Belgium   Brussels    11190846\n",
       "1    India  New Delhi  1303171035\n",
       "2   Brazil   Brasília   207847528"
      ]
     },
     "execution_count": 62,
     "metadata": {},
     "output_type": "execute_result"
    }
   ],
   "source": [
    "pd.read_json(json_data)"
   ]
  },
  {
   "cell_type": "code",
   "execution_count": 72,
   "id": "2196ce5c",
   "metadata": {
    "ExecuteTime": {
     "end_time": "2022-12-03T06:29:45.096291Z",
     "start_time": "2022-12-03T06:29:44.360543Z"
    }
   },
   "outputs": [
    {
     "name": "stdout",
     "output_type": "stream",
     "text": [
      "Requirement already satisfied: wget in /Users/sky/.pyenv/versions/3.10.5/lib/python3.10/site-packages (3.2)\r\n"
     ]
    }
   ],
   "source": [
    "!pip install wget"
   ]
  },
  {
   "cell_type": "code",
   "execution_count": 76,
   "id": "17244cd0",
   "metadata": {
    "ExecuteTime": {
     "end_time": "2022-12-03T06:31:37.736316Z",
     "start_time": "2022-12-03T06:31:36.527839Z"
    }
   },
   "outputs": [
    {
     "name": "stdout",
     "output_type": "stream",
     "text": [
      "--2022-12-03 15:31:37--  https://raw.githubusercontent.com/duc-ke/edu_jupyter_pandas/master/dataset/iris_sample.csv\n",
      "raw.githubusercontent.com (raw.githubusercontent.com) 해석 중... 185.199.109.133, 185.199.111.133, 185.199.110.133, ...\n",
      "다음으로 연결 중: raw.githubusercontent.com (raw.githubusercontent.com)|185.199.109.133|:443... 연결했습니다.\n",
      "HTTP 요청을 보냈습니다. 응답 기다리는 중... 200 OK\n",
      "길이: 683 [text/plain]\n",
      "저장 위치: `iris_sample.csv'\n",
      "\n",
      "iris_sample.csv     100%[===================>]     683  --.-KB/s    /  0s      \n",
      "\n",
      "2022-12-03 15:31:37 (9.87 MB/s) - `iris_sample.csv' 저장함 [683/683]\n",
      "\n"
     ]
    }
   ],
   "source": [
    "# csv, 하나의 파일로 관리 가능한 크기라면 일반적으로 csv 포맷을 활용\n",
    "!wget -O 'iris_sample.csv' https://raw.githubusercontent.com/duc-ke/edu_jupyter_pandas/master/dataset/iris_sample.csv"
   ]
  },
  {
   "cell_type": "code",
   "execution_count": 81,
   "id": "db6869ca",
   "metadata": {
    "ExecuteTime": {
     "end_time": "2022-12-03T10:40:02.843503Z",
     "start_time": "2022-12-03T10:40:02.828436Z"
    }
   },
   "outputs": [
    {
     "data": {
      "text/html": [
       "<div>\n",
       "<style scoped>\n",
       "    .dataframe tbody tr th:only-of-type {\n",
       "        vertical-align: middle;\n",
       "    }\n",
       "\n",
       "    .dataframe tbody tr th {\n",
       "        vertical-align: top;\n",
       "    }\n",
       "\n",
       "    .dataframe thead th {\n",
       "        text-align: right;\n",
       "    }\n",
       "</style>\n",
       "<table border=\"1\" class=\"dataframe\">\n",
       "  <thead>\n",
       "    <tr style=\"text-align: right;\">\n",
       "      <th></th>\n",
       "      <th>sepal_length</th>\n",
       "      <th>sepal_width</th>\n",
       "      <th>petal_length</th>\n",
       "      <th>petal_width</th>\n",
       "      <th>species</th>\n",
       "    </tr>\n",
       "  </thead>\n",
       "  <tbody>\n",
       "    <tr>\n",
       "      <th>0</th>\n",
       "      <td>5.1</td>\n",
       "      <td>3.5</td>\n",
       "      <td>1.4</td>\n",
       "      <td>0.2</td>\n",
       "      <td>setosa</td>\n",
       "    </tr>\n",
       "    <tr>\n",
       "      <th>1</th>\n",
       "      <td>4.9</td>\n",
       "      <td>3.0</td>\n",
       "      <td>1.4</td>\n",
       "      <td>0.2</td>\n",
       "      <td>setosa</td>\n",
       "    </tr>\n",
       "    <tr>\n",
       "      <th>2</th>\n",
       "      <td>4.7</td>\n",
       "      <td>3.2</td>\n",
       "      <td>1.3</td>\n",
       "      <td>0.2</td>\n",
       "      <td>setosa</td>\n",
       "    </tr>\n",
       "    <tr>\n",
       "      <th>3</th>\n",
       "      <td>4.6</td>\n",
       "      <td>3.1</td>\n",
       "      <td>1.5</td>\n",
       "      <td>0.2</td>\n",
       "      <td>setosa</td>\n",
       "    </tr>\n",
       "    <tr>\n",
       "      <th>4</th>\n",
       "      <td>5.0</td>\n",
       "      <td>3.6</td>\n",
       "      <td>1.4</td>\n",
       "      <td>0.2</td>\n",
       "      <td>setosa</td>\n",
       "    </tr>\n",
       "  </tbody>\n",
       "</table>\n",
       "</div>"
      ],
      "text/plain": [
       "   sepal_length  sepal_width  petal_length  petal_width species\n",
       "0           5.1          3.5           1.4          0.2  setosa\n",
       "1           4.9          3.0           1.4          0.2  setosa\n",
       "2           4.7          3.2           1.3          0.2  setosa\n",
       "3           4.6          3.1           1.5          0.2  setosa\n",
       "4           5.0          3.6           1.4          0.2  setosa"
      ]
     },
     "execution_count": 81,
     "metadata": {},
     "output_type": "execute_result"
    }
   ],
   "source": [
    "iris = pd.read_csv('./iris_sample.csv')\n",
    "iris.head()"
   ]
  },
  {
   "cell_type": "code",
   "execution_count": 79,
   "id": "94cb86b8",
   "metadata": {
    "ExecuteTime": {
     "end_time": "2022-12-03T10:37:13.841924Z",
     "start_time": "2022-12-03T10:37:13.828091Z"
    }
   },
   "outputs": [
    {
     "name": "stdout",
     "output_type": "stream",
     "text": [
      "<class 'pandas.core.frame.DataFrame'>\n",
      "RangeIndex: 26 entries, 0 to 25\n",
      "Data columns (total 5 columns):\n",
      " #   Column        Non-Null Count  Dtype  \n",
      "---  ------        --------------  -----  \n",
      " 0   sepal_length  26 non-null     float64\n",
      " 1   sepal_width   25 non-null     float64\n",
      " 2   petal_length  23 non-null     float64\n",
      " 3   petal_width   26 non-null     float64\n",
      " 4   species       26 non-null     object \n",
      "dtypes: float64(4), object(1)\n",
      "memory usage: 1.1+ KB\n"
     ]
    }
   ],
   "source": [
    "iris.info()"
   ]
  },
  {
   "cell_type": "code",
   "execution_count": 88,
   "id": "3a936a54",
   "metadata": {
    "ExecuteTime": {
     "end_time": "2022-12-03T10:43:35.495754Z",
     "start_time": "2022-12-03T10:43:35.491283Z"
    }
   },
   "outputs": [],
   "source": [
    "iris2 = iris.head()\n",
    "iris2.to_csv('df_iris_sample.csv', encoding='utf8', index=False)"
   ]
  },
  {
   "cell_type": "code",
   "execution_count": 89,
   "id": "e369bc7a",
   "metadata": {
    "ExecuteTime": {
     "end_time": "2022-12-03T10:43:50.094360Z",
     "start_time": "2022-12-03T10:43:50.077099Z"
    }
   },
   "outputs": [
    {
     "data": {
      "text/html": [
       "<div>\n",
       "<style scoped>\n",
       "    .dataframe tbody tr th:only-of-type {\n",
       "        vertical-align: middle;\n",
       "    }\n",
       "\n",
       "    .dataframe tbody tr th {\n",
       "        vertical-align: top;\n",
       "    }\n",
       "\n",
       "    .dataframe thead th {\n",
       "        text-align: right;\n",
       "    }\n",
       "</style>\n",
       "<table border=\"1\" class=\"dataframe\">\n",
       "  <thead>\n",
       "    <tr style=\"text-align: right;\">\n",
       "      <th></th>\n",
       "      <th>sepal_length</th>\n",
       "      <th>sepal_width</th>\n",
       "      <th>petal_length</th>\n",
       "      <th>petal_width</th>\n",
       "      <th>species</th>\n",
       "    </tr>\n",
       "  </thead>\n",
       "  <tbody>\n",
       "    <tr>\n",
       "      <th>0</th>\n",
       "      <td>5.1</td>\n",
       "      <td>3.5</td>\n",
       "      <td>1.4</td>\n",
       "      <td>0.2</td>\n",
       "      <td>setosa</td>\n",
       "    </tr>\n",
       "    <tr>\n",
       "      <th>1</th>\n",
       "      <td>4.9</td>\n",
       "      <td>3.0</td>\n",
       "      <td>1.4</td>\n",
       "      <td>0.2</td>\n",
       "      <td>setosa</td>\n",
       "    </tr>\n",
       "    <tr>\n",
       "      <th>2</th>\n",
       "      <td>4.7</td>\n",
       "      <td>3.2</td>\n",
       "      <td>1.3</td>\n",
       "      <td>0.2</td>\n",
       "      <td>setosa</td>\n",
       "    </tr>\n",
       "    <tr>\n",
       "      <th>3</th>\n",
       "      <td>4.6</td>\n",
       "      <td>3.1</td>\n",
       "      <td>1.5</td>\n",
       "      <td>0.2</td>\n",
       "      <td>setosa</td>\n",
       "    </tr>\n",
       "    <tr>\n",
       "      <th>4</th>\n",
       "      <td>5.0</td>\n",
       "      <td>3.6</td>\n",
       "      <td>1.4</td>\n",
       "      <td>0.2</td>\n",
       "      <td>setosa</td>\n",
       "    </tr>\n",
       "  </tbody>\n",
       "</table>\n",
       "</div>"
      ],
      "text/plain": [
       "   sepal_length  sepal_width  petal_length  petal_width species\n",
       "0           5.1          3.5           1.4          0.2  setosa\n",
       "1           4.9          3.0           1.4          0.2  setosa\n",
       "2           4.7          3.2           1.3          0.2  setosa\n",
       "3           4.6          3.1           1.5          0.2  setosa\n",
       "4           5.0          3.6           1.4          0.2  setosa"
      ]
     },
     "execution_count": 89,
     "metadata": {},
     "output_type": "execute_result"
    }
   ],
   "source": [
    "i = pd.read_csv('./df_iris_sample.csv')\n",
    "i"
   ]
  },
  {
   "cell_type": "code",
   "execution_count": null,
   "id": "22c98edc",
   "metadata": {},
   "outputs": [],
   "source": []
  },
  {
   "cell_type": "code",
   "execution_count": 94,
   "id": "ad998deb",
   "metadata": {
    "ExecuteTime": {
     "end_time": "2022-12-03T10:48:56.064078Z",
     "start_time": "2022-12-03T10:48:54.029806Z"
    }
   },
   "outputs": [],
   "source": [
    "import sqlalchemy\n",
    "\n",
    "user = \"anonymous\"\n",
    "host = \"ensembldb.ensembl.org\"\n",
    "port = 3337\n",
    "database = \"ailuropoda_melanoleuca_core_79_1\"\n",
    "\n",
    "url = f\"mysql+mysqlconnector://{user}@{host}:{port}/{database}\"\n",
    "# url = f\"mysql+mysqlconnector://{user}:{password}@{host}:{port}/{database}\"\n",
    "\n",
    "connection = sqlalchemy.create_engine(url)"
   ]
  },
  {
   "cell_type": "code",
   "execution_count": 97,
   "id": "39c9af63",
   "metadata": {
    "ExecuteTime": {
     "end_time": "2022-12-03T10:50:50.046666Z",
     "start_time": "2022-12-03T10:50:47.845510Z"
    }
   },
   "outputs": [
    {
     "data": {
      "text/html": [
       "<div>\n",
       "<style scoped>\n",
       "    .dataframe tbody tr th:only-of-type {\n",
       "        vertical-align: middle;\n",
       "    }\n",
       "\n",
       "    .dataframe tbody tr th {\n",
       "        vertical-align: top;\n",
       "    }\n",
       "\n",
       "    .dataframe thead th {\n",
       "        text-align: right;\n",
       "    }\n",
       "</style>\n",
       "<table border=\"1\" class=\"dataframe\">\n",
       "  <thead>\n",
       "    <tr style=\"text-align: right;\">\n",
       "      <th></th>\n",
       "      <th>created</th>\n",
       "      <th>logic_name</th>\n",
       "      <th>db</th>\n",
       "    </tr>\n",
       "  </thead>\n",
       "  <tbody>\n",
       "    <tr>\n",
       "      <th>0</th>\n",
       "      <td>2010-01-27 18:23:33</td>\n",
       "      <td>genscan</td>\n",
       "      <td>HumanIso.smat</td>\n",
       "    </tr>\n",
       "    <tr>\n",
       "      <th>1</th>\n",
       "      <td>2010-06-17 12:10:04</td>\n",
       "      <td>other_protein</td>\n",
       "      <td>None</td>\n",
       "    </tr>\n",
       "    <tr>\n",
       "      <th>2</th>\n",
       "      <td>2010-01-27 18:23:34</td>\n",
       "      <td>eponine</td>\n",
       "      <td>eponine</td>\n",
       "    </tr>\n",
       "    <tr>\n",
       "      <th>3</th>\n",
       "      <td>2010-06-17 12:10:04</td>\n",
       "      <td>trf</td>\n",
       "      <td>None</td>\n",
       "    </tr>\n",
       "    <tr>\n",
       "      <th>4</th>\n",
       "      <td>2010-06-17 12:10:04</td>\n",
       "      <td>trnascan</td>\n",
       "      <td>trna</td>\n",
       "    </tr>\n",
       "  </tbody>\n",
       "</table>\n",
       "</div>"
      ],
      "text/plain": [
       "              created     logic_name             db\n",
       "0 2010-01-27 18:23:33        genscan  HumanIso.smat\n",
       "1 2010-06-17 12:10:04  other_protein           None\n",
       "2 2010-01-27 18:23:34        eponine        eponine\n",
       "3 2010-06-17 12:10:04            trf           None\n",
       "4 2010-06-17 12:10:04       trnascan           trna"
      ]
     },
     "execution_count": 97,
     "metadata": {},
     "output_type": "execute_result"
    }
   ],
   "source": [
    "pd.read_sql('select created, logic_name, db  from analysis limit 5', connection)"
   ]
  },
  {
   "cell_type": "markdown",
   "id": "be8a70d5",
   "metadata": {},
   "source": [
    "# 인덱싱/슬라이싱"
   ]
  },
  {
   "cell_type": "code",
   "execution_count": 98,
   "id": "b211dc30",
   "metadata": {
    "ExecuteTime": {
     "end_time": "2022-12-03T10:51:46.899178Z",
     "start_time": "2022-12-03T10:51:46.888593Z"
    }
   },
   "outputs": [
    {
     "data": {
      "text/html": [
       "<div>\n",
       "<style scoped>\n",
       "    .dataframe tbody tr th:only-of-type {\n",
       "        vertical-align: middle;\n",
       "    }\n",
       "\n",
       "    .dataframe tbody tr th {\n",
       "        vertical-align: top;\n",
       "    }\n",
       "\n",
       "    .dataframe thead th {\n",
       "        text-align: right;\n",
       "    }\n",
       "</style>\n",
       "<table border=\"1\" class=\"dataframe\">\n",
       "  <thead>\n",
       "    <tr style=\"text-align: right;\">\n",
       "      <th></th>\n",
       "      <th>Country</th>\n",
       "      <th>Capital</th>\n",
       "      <th>Population</th>\n",
       "    </tr>\n",
       "  </thead>\n",
       "  <tbody>\n",
       "    <tr>\n",
       "      <th>0</th>\n",
       "      <td>Belgium</td>\n",
       "      <td>Brussels</td>\n",
       "      <td>11190846</td>\n",
       "    </tr>\n",
       "    <tr>\n",
       "      <th>1</th>\n",
       "      <td>India</td>\n",
       "      <td>New Delhi</td>\n",
       "      <td>1303171035</td>\n",
       "    </tr>\n",
       "    <tr>\n",
       "      <th>2</th>\n",
       "      <td>Brazil</td>\n",
       "      <td>Brasília</td>\n",
       "      <td>207847528</td>\n",
       "    </tr>\n",
       "  </tbody>\n",
       "</table>\n",
       "</div>"
      ],
      "text/plain": [
       "   Country    Capital  Population\n",
       "0  Belgium   Brussels    11190846\n",
       "1    India  New Delhi  1303171035\n",
       "2   Brazil   Brasília   207847528"
      ]
     },
     "execution_count": 98,
     "metadata": {},
     "output_type": "execute_result"
    }
   ],
   "source": [
    "df"
   ]
  },
  {
   "cell_type": "code",
   "execution_count": 100,
   "id": "9ac320f4",
   "metadata": {
    "ExecuteTime": {
     "end_time": "2022-12-03T10:52:02.503361Z",
     "start_time": "2022-12-03T10:52:02.498008Z"
    }
   },
   "outputs": [
    {
     "data": {
      "text/plain": [
       "0    Belgium\n",
       "1      India\n",
       "2     Brazil\n",
       "Name: Country, dtype: object"
      ]
     },
     "execution_count": 100,
     "metadata": {},
     "output_type": "execute_result"
    }
   ],
   "source": [
    "# 단일 컬럼조회\n",
    "df['Country']"
   ]
  },
  {
   "cell_type": "code",
   "execution_count": 101,
   "id": "e6b937de",
   "metadata": {
    "ExecuteTime": {
     "end_time": "2022-12-03T10:52:24.768817Z",
     "start_time": "2022-12-03T10:52:24.757075Z"
    }
   },
   "outputs": [
    {
     "data": {
      "text/html": [
       "<div>\n",
       "<style scoped>\n",
       "    .dataframe tbody tr th:only-of-type {\n",
       "        vertical-align: middle;\n",
       "    }\n",
       "\n",
       "    .dataframe tbody tr th {\n",
       "        vertical-align: top;\n",
       "    }\n",
       "\n",
       "    .dataframe thead th {\n",
       "        text-align: right;\n",
       "    }\n",
       "</style>\n",
       "<table border=\"1\" class=\"dataframe\">\n",
       "  <thead>\n",
       "    <tr style=\"text-align: right;\">\n",
       "      <th></th>\n",
       "      <th>Country</th>\n",
       "      <th>Capital</th>\n",
       "    </tr>\n",
       "  </thead>\n",
       "  <tbody>\n",
       "    <tr>\n",
       "      <th>0</th>\n",
       "      <td>Belgium</td>\n",
       "      <td>Brussels</td>\n",
       "    </tr>\n",
       "    <tr>\n",
       "      <th>1</th>\n",
       "      <td>India</td>\n",
       "      <td>New Delhi</td>\n",
       "    </tr>\n",
       "    <tr>\n",
       "      <th>2</th>\n",
       "      <td>Brazil</td>\n",
       "      <td>Brasília</td>\n",
       "    </tr>\n",
       "  </tbody>\n",
       "</table>\n",
       "</div>"
      ],
      "text/plain": [
       "   Country    Capital\n",
       "0  Belgium   Brussels\n",
       "1    India  New Delhi\n",
       "2   Brazil   Brasília"
      ]
     },
     "execution_count": 101,
     "metadata": {},
     "output_type": "execute_result"
    }
   ],
   "source": [
    "# 복수 컬럼 조회\n",
    "df[['Country', 'Capital']]"
   ]
  },
  {
   "cell_type": "code",
   "execution_count": 103,
   "id": "3cf293a7",
   "metadata": {
    "ExecuteTime": {
     "end_time": "2022-12-03T10:53:37.843918Z",
     "start_time": "2022-12-03T10:53:37.833985Z"
    }
   },
   "outputs": [
    {
     "data": {
      "text/html": [
       "<div>\n",
       "<style scoped>\n",
       "    .dataframe tbody tr th:only-of-type {\n",
       "        vertical-align: middle;\n",
       "    }\n",
       "\n",
       "    .dataframe tbody tr th {\n",
       "        vertical-align: top;\n",
       "    }\n",
       "\n",
       "    .dataframe thead th {\n",
       "        text-align: right;\n",
       "    }\n",
       "</style>\n",
       "<table border=\"1\" class=\"dataframe\">\n",
       "  <thead>\n",
       "    <tr style=\"text-align: right;\">\n",
       "      <th></th>\n",
       "      <th>Country</th>\n",
       "      <th>Capital</th>\n",
       "      <th>Population</th>\n",
       "    </tr>\n",
       "  </thead>\n",
       "  <tbody>\n",
       "    <tr>\n",
       "      <th>0</th>\n",
       "      <td>Belgium</td>\n",
       "      <td>Brussels</td>\n",
       "      <td>11190846</td>\n",
       "    </tr>\n",
       "    <tr>\n",
       "      <th>1</th>\n",
       "      <td>India</td>\n",
       "      <td>New Delhi</td>\n",
       "      <td>1303171035</td>\n",
       "    </tr>\n",
       "  </tbody>\n",
       "</table>\n",
       "</div>"
      ],
      "text/plain": [
       "   Country    Capital  Population\n",
       "0  Belgium   Brussels    11190846\n",
       "1    India  New Delhi  1303171035"
      ]
     },
     "execution_count": 103,
     "metadata": {},
     "output_type": "execute_result"
    }
   ],
   "source": [
    "# 슬라이싱, 2는 미포함\n",
    "df[0:2]"
   ]
  },
  {
   "cell_type": "code",
   "execution_count": 106,
   "id": "dff23e0d",
   "metadata": {
    "ExecuteTime": {
     "end_time": "2022-12-03T10:55:49.338750Z",
     "start_time": "2022-12-03T10:55:49.331454Z"
    }
   },
   "outputs": [
    {
     "data": {
      "text/html": [
       "<div>\n",
       "<style scoped>\n",
       "    .dataframe tbody tr th:only-of-type {\n",
       "        vertical-align: middle;\n",
       "    }\n",
       "\n",
       "    .dataframe tbody tr th {\n",
       "        vertical-align: top;\n",
       "    }\n",
       "\n",
       "    .dataframe thead th {\n",
       "        text-align: right;\n",
       "    }\n",
       "</style>\n",
       "<table border=\"1\" class=\"dataframe\">\n",
       "  <thead>\n",
       "    <tr style=\"text-align: right;\">\n",
       "      <th></th>\n",
       "      <th>Country</th>\n",
       "      <th>Capital</th>\n",
       "      <th>Population</th>\n",
       "    </tr>\n",
       "  </thead>\n",
       "  <tbody>\n",
       "    <tr>\n",
       "      <th>0</th>\n",
       "      <td>Belgium</td>\n",
       "      <td>Brussels</td>\n",
       "      <td>11190846</td>\n",
       "    </tr>\n",
       "    <tr>\n",
       "      <th>1</th>\n",
       "      <td>India</td>\n",
       "      <td>New Delhi</td>\n",
       "      <td>1303171035</td>\n",
       "    </tr>\n",
       "    <tr>\n",
       "      <th>2</th>\n",
       "      <td>Brazil</td>\n",
       "      <td>Brasília</td>\n",
       "      <td>207847528</td>\n",
       "    </tr>\n",
       "  </tbody>\n",
       "</table>\n",
       "</div>"
      ],
      "text/plain": [
       "   Country    Capital  Population\n",
       "0  Belgium   Brussels    11190846\n",
       "1    India  New Delhi  1303171035\n",
       "2   Brazil   Brasília   207847528"
      ]
     },
     "execution_count": 106,
     "metadata": {},
     "output_type": "execute_result"
    }
   ],
   "source": [
    " df"
   ]
  },
  {
   "cell_type": "code",
   "execution_count": 108,
   "id": "f7d05b19",
   "metadata": {
    "ExecuteTime": {
     "end_time": "2022-12-03T10:56:33.267938Z",
     "start_time": "2022-12-03T10:56:33.263280Z"
    }
   },
   "outputs": [
    {
     "data": {
      "text/plain": [
       "'Belgium'"
      ]
     },
     "execution_count": 108,
     "metadata": {},
     "output_type": "execute_result"
    }
   ],
   "source": [
    "df.iloc[0,0] # 위치를 통한 인덱싱"
   ]
  },
  {
   "cell_type": "code",
   "execution_count": 109,
   "id": "1aca68bd",
   "metadata": {
    "ExecuteTime": {
     "end_time": "2022-12-03T10:56:43.721736Z",
     "start_time": "2022-12-03T10:56:43.714935Z"
    }
   },
   "outputs": [
    {
     "data": {
      "text/plain": [
       "'India'"
      ]
     },
     "execution_count": 109,
     "metadata": {},
     "output_type": "execute_result"
    }
   ],
   "source": [
    "df.iloc[1,0]"
   ]
  },
  {
   "cell_type": "code",
   "execution_count": 110,
   "id": "4b5b7ac9",
   "metadata": {
    "ExecuteTime": {
     "end_time": "2022-12-03T10:57:07.792025Z",
     "start_time": "2022-12-03T10:57:07.783890Z"
    }
   },
   "outputs": [
    {
     "data": {
      "text/plain": [
       "'Belgium'"
      ]
     },
     "execution_count": 110,
     "metadata": {},
     "output_type": "execute_result"
    }
   ],
   "source": [
    "df.loc[0, 'Country'] # 라벨을 통한 인덱싱"
   ]
  },
  {
   "cell_type": "code",
   "execution_count": 111,
   "id": "ec05c252",
   "metadata": {
    "ExecuteTime": {
     "end_time": "2022-12-03T10:57:31.138672Z",
     "start_time": "2022-12-03T10:57:31.134109Z"
    }
   },
   "outputs": [
    {
     "data": {
      "text/plain": [
       "'Brussels'"
      ]
     },
     "execution_count": 111,
     "metadata": {},
     "output_type": "execute_result"
    }
   ],
   "source": [
    "df.loc[0, 'Capital'] # 라벨을 통한 인덱싱"
   ]
  },
  {
   "cell_type": "code",
   "execution_count": null,
   "id": "6b8273e4",
   "metadata": {},
   "outputs": [],
   "source": []
  },
  {
   "cell_type": "code",
   "execution_count": 112,
   "id": "ff4b98fe",
   "metadata": {
    "ExecuteTime": {
     "end_time": "2022-12-03T10:58:39.710198Z",
     "start_time": "2022-12-03T10:58:39.700246Z"
    }
   },
   "outputs": [
    {
     "data": {
      "text/html": [
       "<div>\n",
       "<style scoped>\n",
       "    .dataframe tbody tr th:only-of-type {\n",
       "        vertical-align: middle;\n",
       "    }\n",
       "\n",
       "    .dataframe tbody tr th {\n",
       "        vertical-align: top;\n",
       "    }\n",
       "\n",
       "    .dataframe thead th {\n",
       "        text-align: right;\n",
       "    }\n",
       "</style>\n",
       "<table border=\"1\" class=\"dataframe\">\n",
       "  <thead>\n",
       "    <tr style=\"text-align: right;\">\n",
       "      <th></th>\n",
       "      <th>Country</th>\n",
       "      <th>Capital</th>\n",
       "    </tr>\n",
       "  </thead>\n",
       "  <tbody>\n",
       "    <tr>\n",
       "      <th>0</th>\n",
       "      <td>Belgium</td>\n",
       "      <td>Brussels</td>\n",
       "    </tr>\n",
       "  </tbody>\n",
       "</table>\n",
       "</div>"
      ],
      "text/plain": [
       "   Country   Capital\n",
       "0  Belgium  Brussels"
      ]
     },
     "execution_count": 112,
     "metadata": {},
     "output_type": "execute_result"
    }
   ],
   "source": [
    "df.iloc[0:1,0:2] # 위치를 통한 슬라이싱 (끝은 미포함)"
   ]
  },
  {
   "cell_type": "code",
   "execution_count": 114,
   "id": "5ea77238",
   "metadata": {
    "ExecuteTime": {
     "end_time": "2022-12-03T10:59:31.793029Z",
     "start_time": "2022-12-03T10:59:31.779449Z"
    }
   },
   "outputs": [
    {
     "data": {
      "text/html": [
       "<div>\n",
       "<style scoped>\n",
       "    .dataframe tbody tr th:only-of-type {\n",
       "        vertical-align: middle;\n",
       "    }\n",
       "\n",
       "    .dataframe tbody tr th {\n",
       "        vertical-align: top;\n",
       "    }\n",
       "\n",
       "    .dataframe thead th {\n",
       "        text-align: right;\n",
       "    }\n",
       "</style>\n",
       "<table border=\"1\" class=\"dataframe\">\n",
       "  <thead>\n",
       "    <tr style=\"text-align: right;\">\n",
       "      <th></th>\n",
       "      <th>Country</th>\n",
       "      <th>Capital</th>\n",
       "    </tr>\n",
       "  </thead>\n",
       "  <tbody>\n",
       "    <tr>\n",
       "      <th>0</th>\n",
       "      <td>Belgium</td>\n",
       "      <td>Brussels</td>\n",
       "    </tr>\n",
       "    <tr>\n",
       "      <th>1</th>\n",
       "      <td>India</td>\n",
       "      <td>New Delhi</td>\n",
       "    </tr>\n",
       "  </tbody>\n",
       "</table>\n",
       "</div>"
      ],
      "text/plain": [
       "   Country    Capital\n",
       "0  Belgium   Brussels\n",
       "1    India  New Delhi"
      ]
     },
     "execution_count": 114,
     "metadata": {},
     "output_type": "execute_result"
    }
   ],
   "source": [
    "df.loc[0:1, 'Country':'Capital']"
   ]
  },
  {
   "cell_type": "code",
   "execution_count": 116,
   "id": "9603b2da",
   "metadata": {
    "ExecuteTime": {
     "end_time": "2022-12-03T11:01:08.274476Z",
     "start_time": "2022-12-03T11:01:08.267206Z"
    }
   },
   "outputs": [
    {
     "data": {
      "text/plain": [
       "0    False\n",
       "1     True\n",
       "2     True\n",
       "Name: Population, dtype: bool"
      ]
     },
     "execution_count": 116,
     "metadata": {},
     "output_type": "execute_result"
    }
   ],
   "source": [
    "# 불리언 인덱싱 (필터링)\n",
    "df['Population'] > 200000000"
   ]
  },
  {
   "cell_type": "code",
   "execution_count": 117,
   "id": "5923ef55",
   "metadata": {
    "ExecuteTime": {
     "end_time": "2022-12-03T11:01:17.326406Z",
     "start_time": "2022-12-03T11:01:17.317799Z"
    }
   },
   "outputs": [
    {
     "data": {
      "text/html": [
       "<div>\n",
       "<style scoped>\n",
       "    .dataframe tbody tr th:only-of-type {\n",
       "        vertical-align: middle;\n",
       "    }\n",
       "\n",
       "    .dataframe tbody tr th {\n",
       "        vertical-align: top;\n",
       "    }\n",
       "\n",
       "    .dataframe thead th {\n",
       "        text-align: right;\n",
       "    }\n",
       "</style>\n",
       "<table border=\"1\" class=\"dataframe\">\n",
       "  <thead>\n",
       "    <tr style=\"text-align: right;\">\n",
       "      <th></th>\n",
       "      <th>Country</th>\n",
       "      <th>Capital</th>\n",
       "      <th>Population</th>\n",
       "    </tr>\n",
       "  </thead>\n",
       "  <tbody>\n",
       "    <tr>\n",
       "      <th>1</th>\n",
       "      <td>India</td>\n",
       "      <td>New Delhi</td>\n",
       "      <td>1303171035</td>\n",
       "    </tr>\n",
       "    <tr>\n",
       "      <th>2</th>\n",
       "      <td>Brazil</td>\n",
       "      <td>Brasília</td>\n",
       "      <td>207847528</td>\n",
       "    </tr>\n",
       "  </tbody>\n",
       "</table>\n",
       "</div>"
      ],
      "text/plain": [
       "  Country    Capital  Population\n",
       "1   India  New Delhi  1303171035\n",
       "2  Brazil   Brasília   207847528"
      ]
     },
     "execution_count": 117,
     "metadata": {},
     "output_type": "execute_result"
    }
   ],
   "source": [
    "df[df['Population'] > 200000000]"
   ]
  },
  {
   "cell_type": "markdown",
   "id": "0003e1f2",
   "metadata": {},
   "source": [
    "# 삭제"
   ]
  },
  {
   "cell_type": "code",
   "execution_count": 120,
   "id": "5eb47609",
   "metadata": {
    "ExecuteTime": {
     "end_time": "2022-12-03T11:08:51.295414Z",
     "start_time": "2022-12-03T11:08:51.284637Z"
    }
   },
   "outputs": [
    {
     "data": {
      "text/html": [
       "<div>\n",
       "<style scoped>\n",
       "    .dataframe tbody tr th:only-of-type {\n",
       "        vertical-align: middle;\n",
       "    }\n",
       "\n",
       "    .dataframe tbody tr th {\n",
       "        vertical-align: top;\n",
       "    }\n",
       "\n",
       "    .dataframe thead th {\n",
       "        text-align: right;\n",
       "    }\n",
       "</style>\n",
       "<table border=\"1\" class=\"dataframe\">\n",
       "  <thead>\n",
       "    <tr style=\"text-align: right;\">\n",
       "      <th></th>\n",
       "      <th>Country</th>\n",
       "      <th>Capital</th>\n",
       "      <th>Population</th>\n",
       "    </tr>\n",
       "  </thead>\n",
       "  <tbody>\n",
       "    <tr>\n",
       "      <th>0</th>\n",
       "      <td>Belgium</td>\n",
       "      <td>Brussels</td>\n",
       "      <td>11190846</td>\n",
       "    </tr>\n",
       "    <tr>\n",
       "      <th>1</th>\n",
       "      <td>India</td>\n",
       "      <td>New Delhi</td>\n",
       "      <td>1303171035</td>\n",
       "    </tr>\n",
       "    <tr>\n",
       "      <th>2</th>\n",
       "      <td>Brazil</td>\n",
       "      <td>Brasília</td>\n",
       "      <td>207847528</td>\n",
       "    </tr>\n",
       "  </tbody>\n",
       "</table>\n",
       "</div>"
      ],
      "text/plain": [
       "   Country    Capital  Population\n",
       "0  Belgium   Brussels    11190846\n",
       "1    India  New Delhi  1303171035\n",
       "2   Brazil   Brasília   207847528"
      ]
     },
     "execution_count": 120,
     "metadata": {},
     "output_type": "execute_result"
    }
   ],
   "source": [
    "# 행삭제\n",
    "df"
   ]
  },
  {
   "cell_type": "code",
   "execution_count": 121,
   "id": "13f591a0",
   "metadata": {
    "ExecuteTime": {
     "end_time": "2022-12-03T11:08:54.495438Z",
     "start_time": "2022-12-03T11:08:54.486563Z"
    }
   },
   "outputs": [
    {
     "data": {
      "text/html": [
       "<div>\n",
       "<style scoped>\n",
       "    .dataframe tbody tr th:only-of-type {\n",
       "        vertical-align: middle;\n",
       "    }\n",
       "\n",
       "    .dataframe tbody tr th {\n",
       "        vertical-align: top;\n",
       "    }\n",
       "\n",
       "    .dataframe thead th {\n",
       "        text-align: right;\n",
       "    }\n",
       "</style>\n",
       "<table border=\"1\" class=\"dataframe\">\n",
       "  <thead>\n",
       "    <tr style=\"text-align: right;\">\n",
       "      <th></th>\n",
       "      <th>Country</th>\n",
       "      <th>Capital</th>\n",
       "      <th>Population</th>\n",
       "    </tr>\n",
       "  </thead>\n",
       "  <tbody>\n",
       "    <tr>\n",
       "      <th>0</th>\n",
       "      <td>Belgium</td>\n",
       "      <td>Brussels</td>\n",
       "      <td>11190846</td>\n",
       "    </tr>\n",
       "    <tr>\n",
       "      <th>2</th>\n",
       "      <td>Brazil</td>\n",
       "      <td>Brasília</td>\n",
       "      <td>207847528</td>\n",
       "    </tr>\n",
       "  </tbody>\n",
       "</table>\n",
       "</div>"
      ],
      "text/plain": [
       "   Country   Capital  Population\n",
       "0  Belgium  Brussels    11190846\n",
       "2   Brazil  Brasília   207847528"
      ]
     },
     "execution_count": 121,
     "metadata": {},
     "output_type": "execute_result"
    }
   ],
   "source": [
    "df.drop(1, axis=0)"
   ]
  },
  {
   "cell_type": "code",
   "execution_count": 122,
   "id": "f7964f54",
   "metadata": {
    "ExecuteTime": {
     "end_time": "2022-12-03T11:09:13.583637Z",
     "start_time": "2022-12-03T11:09:13.573020Z"
    }
   },
   "outputs": [
    {
     "data": {
      "text/html": [
       "<div>\n",
       "<style scoped>\n",
       "    .dataframe tbody tr th:only-of-type {\n",
       "        vertical-align: middle;\n",
       "    }\n",
       "\n",
       "    .dataframe tbody tr th {\n",
       "        vertical-align: top;\n",
       "    }\n",
       "\n",
       "    .dataframe thead th {\n",
       "        text-align: right;\n",
       "    }\n",
       "</style>\n",
       "<table border=\"1\" class=\"dataframe\">\n",
       "  <thead>\n",
       "    <tr style=\"text-align: right;\">\n",
       "      <th></th>\n",
       "      <th>Country</th>\n",
       "      <th>Capital</th>\n",
       "      <th>Population</th>\n",
       "    </tr>\n",
       "  </thead>\n",
       "  <tbody>\n",
       "    <tr>\n",
       "      <th>0</th>\n",
       "      <td>Belgium</td>\n",
       "      <td>Brussels</td>\n",
       "      <td>11190846</td>\n",
       "    </tr>\n",
       "    <tr>\n",
       "      <th>1</th>\n",
       "      <td>India</td>\n",
       "      <td>New Delhi</td>\n",
       "      <td>1303171035</td>\n",
       "    </tr>\n",
       "    <tr>\n",
       "      <th>2</th>\n",
       "      <td>Brazil</td>\n",
       "      <td>Brasília</td>\n",
       "      <td>207847528</td>\n",
       "    </tr>\n",
       "  </tbody>\n",
       "</table>\n",
       "</div>"
      ],
      "text/plain": [
       "   Country    Capital  Population\n",
       "0  Belgium   Brussels    11190846\n",
       "1    India  New Delhi  1303171035\n",
       "2   Brazil   Brasília   207847528"
      ]
     },
     "execution_count": 122,
     "metadata": {},
     "output_type": "execute_result"
    }
   ],
   "source": [
    "df"
   ]
  },
  {
   "cell_type": "code",
   "execution_count": 128,
   "id": "7a66d03d",
   "metadata": {
    "ExecuteTime": {
     "end_time": "2022-12-03T11:09:59.099031Z",
     "start_time": "2022-12-03T11:09:59.090098Z"
    }
   },
   "outputs": [
    {
     "data": {
      "text/html": [
       "<div>\n",
       "<style scoped>\n",
       "    .dataframe tbody tr th:only-of-type {\n",
       "        vertical-align: middle;\n",
       "    }\n",
       "\n",
       "    .dataframe tbody tr th {\n",
       "        vertical-align: top;\n",
       "    }\n",
       "\n",
       "    .dataframe thead th {\n",
       "        text-align: right;\n",
       "    }\n",
       "</style>\n",
       "<table border=\"1\" class=\"dataframe\">\n",
       "  <thead>\n",
       "    <tr style=\"text-align: right;\">\n",
       "      <th></th>\n",
       "      <th>Country</th>\n",
       "      <th>Capital</th>\n",
       "      <th>Population</th>\n",
       "    </tr>\n",
       "  </thead>\n",
       "  <tbody>\n",
       "    <tr>\n",
       "      <th>2</th>\n",
       "      <td>Brazil</td>\n",
       "      <td>Brasília</td>\n",
       "      <td>207847528</td>\n",
       "    </tr>\n",
       "  </tbody>\n",
       "</table>\n",
       "</div>"
      ],
      "text/plain": [
       "  Country   Capital  Population\n",
       "2  Brazil  Brasília   207847528"
      ]
     },
     "execution_count": 128,
     "metadata": {},
     "output_type": "execute_result"
    }
   ],
   "source": [
    "df.drop([0,1])"
   ]
  },
  {
   "cell_type": "code",
   "execution_count": 129,
   "id": "2b682e2f",
   "metadata": {
    "ExecuteTime": {
     "end_time": "2022-12-03T11:10:16.949370Z",
     "start_time": "2022-12-03T11:10:16.939262Z"
    }
   },
   "outputs": [
    {
     "data": {
      "text/html": [
       "<div>\n",
       "<style scoped>\n",
       "    .dataframe tbody tr th:only-of-type {\n",
       "        vertical-align: middle;\n",
       "    }\n",
       "\n",
       "    .dataframe tbody tr th {\n",
       "        vertical-align: top;\n",
       "    }\n",
       "\n",
       "    .dataframe thead th {\n",
       "        text-align: right;\n",
       "    }\n",
       "</style>\n",
       "<table border=\"1\" class=\"dataframe\">\n",
       "  <thead>\n",
       "    <tr style=\"text-align: right;\">\n",
       "      <th></th>\n",
       "      <th>Capital</th>\n",
       "      <th>Population</th>\n",
       "    </tr>\n",
       "  </thead>\n",
       "  <tbody>\n",
       "    <tr>\n",
       "      <th>0</th>\n",
       "      <td>Brussels</td>\n",
       "      <td>11190846</td>\n",
       "    </tr>\n",
       "    <tr>\n",
       "      <th>1</th>\n",
       "      <td>New Delhi</td>\n",
       "      <td>1303171035</td>\n",
       "    </tr>\n",
       "    <tr>\n",
       "      <th>2</th>\n",
       "      <td>Brasília</td>\n",
       "      <td>207847528</td>\n",
       "    </tr>\n",
       "  </tbody>\n",
       "</table>\n",
       "</div>"
      ],
      "text/plain": [
       "     Capital  Population\n",
       "0   Brussels    11190846\n",
       "1  New Delhi  1303171035\n",
       "2   Brasília   207847528"
      ]
     },
     "execution_count": 129,
     "metadata": {},
     "output_type": "execute_result"
    }
   ],
   "source": [
    "# 열삭제 axis=1\n",
    "df.drop('Country', axis=1)"
   ]
  },
  {
   "cell_type": "code",
   "execution_count": 130,
   "id": "6fd4fb2f",
   "metadata": {
    "ExecuteTime": {
     "end_time": "2022-12-03T11:10:45.348311Z",
     "start_time": "2022-12-03T11:10:45.337865Z"
    }
   },
   "outputs": [
    {
     "data": {
      "text/html": [
       "<div>\n",
       "<style scoped>\n",
       "    .dataframe tbody tr th:only-of-type {\n",
       "        vertical-align: middle;\n",
       "    }\n",
       "\n",
       "    .dataframe tbody tr th {\n",
       "        vertical-align: top;\n",
       "    }\n",
       "\n",
       "    .dataframe thead th {\n",
       "        text-align: right;\n",
       "    }\n",
       "</style>\n",
       "<table border=\"1\" class=\"dataframe\">\n",
       "  <thead>\n",
       "    <tr style=\"text-align: right;\">\n",
       "      <th></th>\n",
       "      <th>Population</th>\n",
       "    </tr>\n",
       "  </thead>\n",
       "  <tbody>\n",
       "    <tr>\n",
       "      <th>0</th>\n",
       "      <td>11190846</td>\n",
       "    </tr>\n",
       "    <tr>\n",
       "      <th>1</th>\n",
       "      <td>1303171035</td>\n",
       "    </tr>\n",
       "    <tr>\n",
       "      <th>2</th>\n",
       "      <td>207847528</td>\n",
       "    </tr>\n",
       "  </tbody>\n",
       "</table>\n",
       "</div>"
      ],
      "text/plain": [
       "   Population\n",
       "0    11190846\n",
       "1  1303171035\n",
       "2   207847528"
      ]
     },
     "execution_count": 130,
     "metadata": {},
     "output_type": "execute_result"
    }
   ],
   "source": [
    "df.drop(['Country', 'Capital'], axis=1)"
   ]
  },
  {
   "cell_type": "code",
   "execution_count": null,
   "id": "58a7608d",
   "metadata": {},
   "outputs": [],
   "source": []
  }
 ],
 "metadata": {
  "kernelspec": {
   "display_name": "Python 3 (ipykernel)",
   "language": "python",
   "name": "python3"
  },
  "language_info": {
   "codemirror_mode": {
    "name": "ipython",
    "version": 3
   },
   "file_extension": ".py",
   "mimetype": "text/x-python",
   "name": "python",
   "nbconvert_exporter": "python",
   "pygments_lexer": "ipython3",
   "version": "3.10.5"
  },
  "toc": {
   "base_numbering": 1,
   "nav_menu": {},
   "number_sections": true,
   "sideBar": true,
   "skip_h1_title": false,
   "title_cell": "Table of Contents",
   "title_sidebar": "Contents",
   "toc_cell": false,
   "toc_position": {
    "height": "calc(100% - 180px)",
    "left": "10px",
    "top": "150px",
    "width": "130.909px"
   },
   "toc_section_display": true,
   "toc_window_display": false
  }
 },
 "nbformat": 4,
 "nbformat_minor": 5
}
