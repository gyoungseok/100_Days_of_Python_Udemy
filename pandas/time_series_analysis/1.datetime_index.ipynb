{
 "cells": [
  {
   "cell_type": "markdown",
   "id": "579a606e",
   "metadata": {
    "ExecuteTime": {
     "end_time": "2022-12-06T13:22:14.163092Z",
     "start_time": "2022-12-06T13:22:14.160528Z"
    }
   },
   "source": [
    "# Practice"
   ]
  },
  {
   "cell_type": "code",
   "execution_count": 1,
   "id": "4b45dee1",
   "metadata": {
    "ExecuteTime": {
     "end_time": "2022-12-06T13:14:32.546275Z",
     "start_time": "2022-12-06T13:14:31.104872Z"
    }
   },
   "outputs": [],
   "source": [
    "import pandas as pd\n",
    "import numpy as np\n",
    "import matplotlib.pyplot as plt"
   ]
  },
  {
   "cell_type": "code",
   "execution_count": 2,
   "id": "fe34fbaf",
   "metadata": {
    "ExecuteTime": {
     "end_time": "2022-12-06T13:14:50.040532Z",
     "start_time": "2022-12-06T13:14:50.036564Z"
    }
   },
   "outputs": [],
   "source": [
    "from datetime import datetime"
   ]
  },
  {
   "cell_type": "code",
   "execution_count": 9,
   "id": "e983f8e9",
   "metadata": {
    "ExecuteTime": {
     "end_time": "2022-12-06T13:16:23.640312Z",
     "start_time": "2022-12-06T13:16:23.636064Z"
    }
   },
   "outputs": [
    {
     "data": {
      "text/plain": [
       "datetime.datetime(2022, 12, 6, 22, 16, 23, 637310)"
      ]
     },
     "execution_count": 9,
     "metadata": {},
     "output_type": "execute_result"
    }
   ],
   "source": [
    "today = datetime(2022,12,6).now()\n",
    "today"
   ]
  },
  {
   "cell_type": "code",
   "execution_count": 10,
   "id": "bafc59a5",
   "metadata": {
    "ExecuteTime": {
     "end_time": "2022-12-06T13:16:49.909486Z",
     "start_time": "2022-12-06T13:16:49.905713Z"
    }
   },
   "outputs": [
    {
     "data": {
      "text/plain": [
       "2022"
      ]
     },
     "execution_count": 10,
     "metadata": {},
     "output_type": "execute_result"
    }
   ],
   "source": [
    "today.year"
   ]
  },
  {
   "cell_type": "code",
   "execution_count": 11,
   "id": "22c9b198",
   "metadata": {
    "ExecuteTime": {
     "end_time": "2022-12-06T13:16:58.186600Z",
     "start_time": "2022-12-06T13:16:58.182432Z"
    }
   },
   "outputs": [
    {
     "data": {
      "text/plain": [
       "12"
      ]
     },
     "execution_count": 11,
     "metadata": {},
     "output_type": "execute_result"
    }
   ],
   "source": [
    "today.month"
   ]
  },
  {
   "cell_type": "code",
   "execution_count": 12,
   "id": "358a95b4",
   "metadata": {
    "ExecuteTime": {
     "end_time": "2022-12-06T13:17:04.787129Z",
     "start_time": "2022-12-06T13:17:04.783164Z"
    }
   },
   "outputs": [
    {
     "data": {
      "text/plain": [
       "6"
      ]
     },
     "execution_count": 12,
     "metadata": {},
     "output_type": "execute_result"
    }
   ],
   "source": [
    "today.day"
   ]
  },
  {
   "cell_type": "code",
   "execution_count": 13,
   "id": "8257d9e2",
   "metadata": {
    "ExecuteTime": {
     "end_time": "2022-12-06T13:17:44.274573Z",
     "start_time": "2022-12-06T13:17:44.269870Z"
    }
   },
   "outputs": [
    {
     "data": {
      "text/plain": [
       "[datetime.datetime(2022, 12, 5, 0, 0), datetime.datetime(2022, 12, 6, 0, 0)]"
      ]
     },
     "execution_count": 13,
     "metadata": {},
     "output_type": "execute_result"
    }
   ],
   "source": [
    "dates = [datetime(2022,12,5), datetime(2022,12,6)]\n",
    "dates"
   ]
  },
  {
   "cell_type": "code",
   "execution_count": 14,
   "id": "4028a78d",
   "metadata": {
    "ExecuteTime": {
     "end_time": "2022-12-06T13:18:14.738325Z",
     "start_time": "2022-12-06T13:18:14.727547Z"
    }
   },
   "outputs": [
    {
     "data": {
      "text/plain": [
       "DatetimeIndex(['2022-12-05', '2022-12-06'], dtype='datetime64[ns]', freq=None)"
      ]
     },
     "execution_count": 14,
     "metadata": {},
     "output_type": "execute_result"
    }
   ],
   "source": [
    "dt_index = pd.DatetimeIndex(dates)\n",
    "dt_index"
   ]
  },
  {
   "cell_type": "code",
   "execution_count": 15,
   "id": "8c5cf12d",
   "metadata": {
    "ExecuteTime": {
     "end_time": "2022-12-06T13:19:26.274270Z",
     "start_time": "2022-12-06T13:19:26.266872Z"
    }
   },
   "outputs": [],
   "source": [
    "data = np.random.randn(2,2)"
   ]
  },
  {
   "cell_type": "code",
   "execution_count": 16,
   "id": "fda361cc",
   "metadata": {
    "ExecuteTime": {
     "end_time": "2022-12-06T13:19:36.673376Z",
     "start_time": "2022-12-06T13:19:36.670447Z"
    }
   },
   "outputs": [],
   "source": [
    "col = ['A', 'B']"
   ]
  },
  {
   "cell_type": "code",
   "execution_count": 17,
   "id": "475ab874",
   "metadata": {
    "ExecuteTime": {
     "end_time": "2022-12-06T13:19:54.760480Z",
     "start_time": "2022-12-06T13:19:54.741354Z"
    }
   },
   "outputs": [
    {
     "data": {
      "text/html": [
       "<div>\n",
       "<style scoped>\n",
       "    .dataframe tbody tr th:only-of-type {\n",
       "        vertical-align: middle;\n",
       "    }\n",
       "\n",
       "    .dataframe tbody tr th {\n",
       "        vertical-align: top;\n",
       "    }\n",
       "\n",
       "    .dataframe thead th {\n",
       "        text-align: right;\n",
       "    }\n",
       "</style>\n",
       "<table border=\"1\" class=\"dataframe\">\n",
       "  <thead>\n",
       "    <tr style=\"text-align: right;\">\n",
       "      <th></th>\n",
       "      <th>A</th>\n",
       "      <th>B</th>\n",
       "    </tr>\n",
       "  </thead>\n",
       "  <tbody>\n",
       "    <tr>\n",
       "      <th>2022-12-05</th>\n",
       "      <td>0.237376</td>\n",
       "      <td>-0.527423</td>\n",
       "    </tr>\n",
       "    <tr>\n",
       "      <th>2022-12-06</th>\n",
       "      <td>1.567999</td>\n",
       "      <td>-1.246631</td>\n",
       "    </tr>\n",
       "  </tbody>\n",
       "</table>\n",
       "</div>"
      ],
      "text/plain": [
       "                   A         B\n",
       "2022-12-05  0.237376 -0.527423\n",
       "2022-12-06  1.567999 -1.246631"
      ]
     },
     "execution_count": 17,
     "metadata": {},
     "output_type": "execute_result"
    }
   ],
   "source": [
    "df = pd.DataFrame(data=data, index=dt_index, columns=col)\n",
    "df"
   ]
  },
  {
   "cell_type": "code",
   "execution_count": 19,
   "id": "9a74c908",
   "metadata": {
    "ExecuteTime": {
     "end_time": "2022-12-06T13:20:48.508803Z",
     "start_time": "2022-12-06T13:20:48.504491Z"
    }
   },
   "outputs": [
    {
     "data": {
      "text/plain": [
       "1"
      ]
     },
     "execution_count": 19,
     "metadata": {},
     "output_type": "execute_result"
    }
   ],
   "source": [
    "df.index.argmax()"
   ]
  },
  {
   "cell_type": "markdown",
   "id": "8d2ccd17",
   "metadata": {},
   "source": [
    "# Resampling"
   ]
  },
  {
   "cell_type": "code",
   "execution_count": 22,
   "id": "c95400fe",
   "metadata": {
    "ExecuteTime": {
     "end_time": "2022-12-06T13:28:16.287398Z",
     "start_time": "2022-12-06T13:28:16.265504Z"
    }
   },
   "outputs": [
    {
     "data": {
      "text/html": [
       "<div>\n",
       "<style scoped>\n",
       "    .dataframe tbody tr th:only-of-type {\n",
       "        vertical-align: middle;\n",
       "    }\n",
       "\n",
       "    .dataframe tbody tr th {\n",
       "        vertical-align: top;\n",
       "    }\n",
       "\n",
       "    .dataframe thead th {\n",
       "        text-align: right;\n",
       "    }\n",
       "</style>\n",
       "<table border=\"1\" class=\"dataframe\">\n",
       "  <thead>\n",
       "    <tr style=\"text-align: right;\">\n",
       "      <th></th>\n",
       "      <th>Date</th>\n",
       "      <th>High</th>\n",
       "      <th>Low</th>\n",
       "      <th>Open</th>\n",
       "      <th>Close</th>\n",
       "      <th>Volume</th>\n",
       "      <th>Adj Close</th>\n",
       "    </tr>\n",
       "  </thead>\n",
       "  <tbody>\n",
       "    <tr>\n",
       "      <th>0</th>\n",
       "      <td>2009-12-31</td>\n",
       "      <td>30.478571</td>\n",
       "      <td>30.080000</td>\n",
       "      <td>30.447144</td>\n",
       "      <td>30.104286</td>\n",
       "      <td>88102700.0</td>\n",
       "      <td>20.159719</td>\n",
       "    </tr>\n",
       "    <tr>\n",
       "      <th>1</th>\n",
       "      <td>2010-01-04</td>\n",
       "      <td>30.642857</td>\n",
       "      <td>30.340000</td>\n",
       "      <td>30.490000</td>\n",
       "      <td>30.572857</td>\n",
       "      <td>123432400.0</td>\n",
       "      <td>20.473503</td>\n",
       "    </tr>\n",
       "    <tr>\n",
       "      <th>2</th>\n",
       "      <td>2010-01-05</td>\n",
       "      <td>30.798571</td>\n",
       "      <td>30.464285</td>\n",
       "      <td>30.657143</td>\n",
       "      <td>30.625713</td>\n",
       "      <td>150476200.0</td>\n",
       "      <td>20.508902</td>\n",
       "    </tr>\n",
       "    <tr>\n",
       "      <th>3</th>\n",
       "      <td>2010-01-06</td>\n",
       "      <td>30.747143</td>\n",
       "      <td>30.107143</td>\n",
       "      <td>30.625713</td>\n",
       "      <td>30.138571</td>\n",
       "      <td>138040000.0</td>\n",
       "      <td>20.182680</td>\n",
       "    </tr>\n",
       "    <tr>\n",
       "      <th>4</th>\n",
       "      <td>2010-01-07</td>\n",
       "      <td>30.285715</td>\n",
       "      <td>29.864286</td>\n",
       "      <td>30.250000</td>\n",
       "      <td>30.082857</td>\n",
       "      <td>119282800.0</td>\n",
       "      <td>20.145369</td>\n",
       "    </tr>\n",
       "  </tbody>\n",
       "</table>\n",
       "</div>"
      ],
      "text/plain": [
       "         Date       High        Low       Open      Close       Volume  \\\n",
       "0  2009-12-31  30.478571  30.080000  30.447144  30.104286   88102700.0   \n",
       "1  2010-01-04  30.642857  30.340000  30.490000  30.572857  123432400.0   \n",
       "2  2010-01-05  30.798571  30.464285  30.657143  30.625713  150476200.0   \n",
       "3  2010-01-06  30.747143  30.107143  30.625713  30.138571  138040000.0   \n",
       "4  2010-01-07  30.285715  29.864286  30.250000  30.082857  119282800.0   \n",
       "\n",
       "   Adj Close  \n",
       "0  20.159719  \n",
       "1  20.473503  \n",
       "2  20.508902  \n",
       "3  20.182680  \n",
       "4  20.145369  "
      ]
     },
     "execution_count": 22,
     "metadata": {},
     "output_type": "execute_result"
    }
   ],
   "source": [
    "df = pd.read_csv('./data/apple_stock.csv')\n",
    "df.head()"
   ]
  },
  {
   "cell_type": "code",
   "execution_count": 23,
   "id": "042b946e",
   "metadata": {
    "ExecuteTime": {
     "end_time": "2022-12-06T13:28:29.915934Z",
     "start_time": "2022-12-06T13:28:29.896860Z"
    }
   },
   "outputs": [
    {
     "name": "stdout",
     "output_type": "stream",
     "text": [
      "<class 'pandas.core.frame.DataFrame'>\n",
      "RangeIndex: 2265 entries, 0 to 2264\n",
      "Data columns (total 7 columns):\n",
      " #   Column     Non-Null Count  Dtype  \n",
      "---  ------     --------------  -----  \n",
      " 0   Date       2265 non-null   object \n",
      " 1   High       2265 non-null   float64\n",
      " 2   Low        2265 non-null   float64\n",
      " 3   Open       2265 non-null   float64\n",
      " 4   Close      2265 non-null   float64\n",
      " 5   Volume     2265 non-null   float64\n",
      " 6   Adj Close  2265 non-null   float64\n",
      "dtypes: float64(6), object(1)\n",
      "memory usage: 124.0+ KB\n"
     ]
    }
   ],
   "source": [
    "df.info()"
   ]
  },
  {
   "cell_type": "code",
   "execution_count": 26,
   "id": "4f9dda59",
   "metadata": {
    "ExecuteTime": {
     "end_time": "2022-12-06T13:30:31.625486Z",
     "start_time": "2022-12-06T13:30:31.523494Z"
    }
   },
   "outputs": [
    {
     "name": "stdout",
     "output_type": "stream",
     "text": [
      "<class 'pandas.core.frame.DataFrame'>\n",
      "RangeIndex: 2265 entries, 0 to 2264\n",
      "Data columns (total 7 columns):\n",
      " #   Column     Non-Null Count  Dtype         \n",
      "---  ------     --------------  -----         \n",
      " 0   Date       2265 non-null   datetime64[ns]\n",
      " 1   High       2265 non-null   float64       \n",
      " 2   Low        2265 non-null   float64       \n",
      " 3   Open       2265 non-null   float64       \n",
      " 4   Close      2265 non-null   float64       \n",
      " 5   Volume     2265 non-null   float64       \n",
      " 6   Adj Close  2265 non-null   float64       \n",
      "dtypes: datetime64[ns](1), float64(6)\n",
      "memory usage: 124.0 KB\n"
     ]
    }
   ],
   "source": [
    "# object에서 datetime64으로 형변환\n",
    "df['Date'] = df['Date'].apply(pd.to_datetime)\n",
    "df.info()"
   ]
  },
  {
   "cell_type": "code",
   "execution_count": 27,
   "id": "6308c46d",
   "metadata": {
    "ExecuteTime": {
     "end_time": "2022-12-06T13:31:10.385672Z",
     "start_time": "2022-12-06T13:31:10.367036Z"
    }
   },
   "outputs": [
    {
     "data": {
      "text/html": [
       "<div>\n",
       "<style scoped>\n",
       "    .dataframe tbody tr th:only-of-type {\n",
       "        vertical-align: middle;\n",
       "    }\n",
       "\n",
       "    .dataframe tbody tr th {\n",
       "        vertical-align: top;\n",
       "    }\n",
       "\n",
       "    .dataframe thead th {\n",
       "        text-align: right;\n",
       "    }\n",
       "</style>\n",
       "<table border=\"1\" class=\"dataframe\">\n",
       "  <thead>\n",
       "    <tr style=\"text-align: right;\">\n",
       "      <th></th>\n",
       "      <th>High</th>\n",
       "      <th>Low</th>\n",
       "      <th>Open</th>\n",
       "      <th>Close</th>\n",
       "      <th>Volume</th>\n",
       "      <th>Adj Close</th>\n",
       "    </tr>\n",
       "    <tr>\n",
       "      <th>Date</th>\n",
       "      <th></th>\n",
       "      <th></th>\n",
       "      <th></th>\n",
       "      <th></th>\n",
       "      <th></th>\n",
       "      <th></th>\n",
       "    </tr>\n",
       "  </thead>\n",
       "  <tbody>\n",
       "    <tr>\n",
       "      <th>2009-12-31</th>\n",
       "      <td>30.478571</td>\n",
       "      <td>30.080000</td>\n",
       "      <td>30.447144</td>\n",
       "      <td>30.104286</td>\n",
       "      <td>88102700.0</td>\n",
       "      <td>20.159719</td>\n",
       "    </tr>\n",
       "    <tr>\n",
       "      <th>2010-01-04</th>\n",
       "      <td>30.642857</td>\n",
       "      <td>30.340000</td>\n",
       "      <td>30.490000</td>\n",
       "      <td>30.572857</td>\n",
       "      <td>123432400.0</td>\n",
       "      <td>20.473503</td>\n",
       "    </tr>\n",
       "    <tr>\n",
       "      <th>2010-01-05</th>\n",
       "      <td>30.798571</td>\n",
       "      <td>30.464285</td>\n",
       "      <td>30.657143</td>\n",
       "      <td>30.625713</td>\n",
       "      <td>150476200.0</td>\n",
       "      <td>20.508902</td>\n",
       "    </tr>\n",
       "    <tr>\n",
       "      <th>2010-01-06</th>\n",
       "      <td>30.747143</td>\n",
       "      <td>30.107143</td>\n",
       "      <td>30.625713</td>\n",
       "      <td>30.138571</td>\n",
       "      <td>138040000.0</td>\n",
       "      <td>20.182680</td>\n",
       "    </tr>\n",
       "    <tr>\n",
       "      <th>2010-01-07</th>\n",
       "      <td>30.285715</td>\n",
       "      <td>29.864286</td>\n",
       "      <td>30.250000</td>\n",
       "      <td>30.082857</td>\n",
       "      <td>119282800.0</td>\n",
       "      <td>20.145369</td>\n",
       "    </tr>\n",
       "    <tr>\n",
       "      <th>...</th>\n",
       "      <td>...</td>\n",
       "      <td>...</td>\n",
       "      <td>...</td>\n",
       "      <td>...</td>\n",
       "      <td>...</td>\n",
       "      <td>...</td>\n",
       "    </tr>\n",
       "    <tr>\n",
       "      <th>2018-12-24</th>\n",
       "      <td>151.550003</td>\n",
       "      <td>146.589996</td>\n",
       "      <td>148.149994</td>\n",
       "      <td>146.830002</td>\n",
       "      <td>37169200.0</td>\n",
       "      <td>146.830002</td>\n",
       "    </tr>\n",
       "    <tr>\n",
       "      <th>2018-12-26</th>\n",
       "      <td>157.229996</td>\n",
       "      <td>146.720001</td>\n",
       "      <td>148.300003</td>\n",
       "      <td>157.169998</td>\n",
       "      <td>58582500.0</td>\n",
       "      <td>157.169998</td>\n",
       "    </tr>\n",
       "    <tr>\n",
       "      <th>2018-12-27</th>\n",
       "      <td>156.770004</td>\n",
       "      <td>150.070007</td>\n",
       "      <td>155.839996</td>\n",
       "      <td>156.149994</td>\n",
       "      <td>53117100.0</td>\n",
       "      <td>156.149994</td>\n",
       "    </tr>\n",
       "    <tr>\n",
       "      <th>2018-12-28</th>\n",
       "      <td>158.520004</td>\n",
       "      <td>154.550003</td>\n",
       "      <td>157.500000</td>\n",
       "      <td>156.229996</td>\n",
       "      <td>42291400.0</td>\n",
       "      <td>156.229996</td>\n",
       "    </tr>\n",
       "    <tr>\n",
       "      <th>2018-12-31</th>\n",
       "      <td>159.360001</td>\n",
       "      <td>156.479996</td>\n",
       "      <td>158.529999</td>\n",
       "      <td>157.740005</td>\n",
       "      <td>35003500.0</td>\n",
       "      <td>157.740005</td>\n",
       "    </tr>\n",
       "  </tbody>\n",
       "</table>\n",
       "<p>2265 rows × 6 columns</p>\n",
       "</div>"
      ],
      "text/plain": [
       "                  High         Low        Open       Close       Volume  \\\n",
       "Date                                                                      \n",
       "2009-12-31   30.478571   30.080000   30.447144   30.104286   88102700.0   \n",
       "2010-01-04   30.642857   30.340000   30.490000   30.572857  123432400.0   \n",
       "2010-01-05   30.798571   30.464285   30.657143   30.625713  150476200.0   \n",
       "2010-01-06   30.747143   30.107143   30.625713   30.138571  138040000.0   \n",
       "2010-01-07   30.285715   29.864286   30.250000   30.082857  119282800.0   \n",
       "...                ...         ...         ...         ...          ...   \n",
       "2018-12-24  151.550003  146.589996  148.149994  146.830002   37169200.0   \n",
       "2018-12-26  157.229996  146.720001  148.300003  157.169998   58582500.0   \n",
       "2018-12-27  156.770004  150.070007  155.839996  156.149994   53117100.0   \n",
       "2018-12-28  158.520004  154.550003  157.500000  156.229996   42291400.0   \n",
       "2018-12-31  159.360001  156.479996  158.529999  157.740005   35003500.0   \n",
       "\n",
       "             Adj Close  \n",
       "Date                    \n",
       "2009-12-31   20.159719  \n",
       "2010-01-04   20.473503  \n",
       "2010-01-05   20.508902  \n",
       "2010-01-06   20.182680  \n",
       "2010-01-07   20.145369  \n",
       "...                ...  \n",
       "2018-12-24  146.830002  \n",
       "2018-12-26  157.169998  \n",
       "2018-12-27  156.149994  \n",
       "2018-12-28  156.229996  \n",
       "2018-12-31  157.740005  \n",
       "\n",
       "[2265 rows x 6 columns]"
      ]
     },
     "execution_count": 27,
     "metadata": {},
     "output_type": "execute_result"
    }
   ],
   "source": [
    "df.set_index('Date', inplace=True)\n",
    "df"
   ]
  },
  {
   "cell_type": "code",
   "execution_count": 31,
   "id": "a99c9934",
   "metadata": {
    "ExecuteTime": {
     "end_time": "2022-12-06T13:33:16.010465Z",
     "start_time": "2022-12-06T13:33:15.995703Z"
    }
   },
   "outputs": [
    {
     "data": {
      "text/html": [
       "<div>\n",
       "<style scoped>\n",
       "    .dataframe tbody tr th:only-of-type {\n",
       "        vertical-align: middle;\n",
       "    }\n",
       "\n",
       "    .dataframe tbody tr th {\n",
       "        vertical-align: top;\n",
       "    }\n",
       "\n",
       "    .dataframe thead th {\n",
       "        text-align: right;\n",
       "    }\n",
       "</style>\n",
       "<table border=\"1\" class=\"dataframe\">\n",
       "  <thead>\n",
       "    <tr style=\"text-align: right;\">\n",
       "      <th></th>\n",
       "      <th>High</th>\n",
       "      <th>Low</th>\n",
       "      <th>Open</th>\n",
       "      <th>Close</th>\n",
       "      <th>Volume</th>\n",
       "      <th>Adj Close</th>\n",
       "      <th>month</th>\n",
       "    </tr>\n",
       "    <tr>\n",
       "      <th>Date</th>\n",
       "      <th></th>\n",
       "      <th></th>\n",
       "      <th></th>\n",
       "      <th></th>\n",
       "      <th></th>\n",
       "      <th></th>\n",
       "      <th></th>\n",
       "    </tr>\n",
       "  </thead>\n",
       "  <tbody>\n",
       "    <tr>\n",
       "      <th>2009-12-31</th>\n",
       "      <td>30.478571</td>\n",
       "      <td>30.080000</td>\n",
       "      <td>30.447144</td>\n",
       "      <td>30.104286</td>\n",
       "      <td>88102700.0</td>\n",
       "      <td>20.159719</td>\n",
       "      <td>12</td>\n",
       "    </tr>\n",
       "    <tr>\n",
       "      <th>2010-01-04</th>\n",
       "      <td>30.642857</td>\n",
       "      <td>30.340000</td>\n",
       "      <td>30.490000</td>\n",
       "      <td>30.572857</td>\n",
       "      <td>123432400.0</td>\n",
       "      <td>20.473503</td>\n",
       "      <td>1</td>\n",
       "    </tr>\n",
       "    <tr>\n",
       "      <th>2010-01-05</th>\n",
       "      <td>30.798571</td>\n",
       "      <td>30.464285</td>\n",
       "      <td>30.657143</td>\n",
       "      <td>30.625713</td>\n",
       "      <td>150476200.0</td>\n",
       "      <td>20.508902</td>\n",
       "      <td>1</td>\n",
       "    </tr>\n",
       "    <tr>\n",
       "      <th>2010-01-06</th>\n",
       "      <td>30.747143</td>\n",
       "      <td>30.107143</td>\n",
       "      <td>30.625713</td>\n",
       "      <td>30.138571</td>\n",
       "      <td>138040000.0</td>\n",
       "      <td>20.182680</td>\n",
       "      <td>1</td>\n",
       "    </tr>\n",
       "    <tr>\n",
       "      <th>2010-01-07</th>\n",
       "      <td>30.285715</td>\n",
       "      <td>29.864286</td>\n",
       "      <td>30.250000</td>\n",
       "      <td>30.082857</td>\n",
       "      <td>119282800.0</td>\n",
       "      <td>20.145369</td>\n",
       "      <td>1</td>\n",
       "    </tr>\n",
       "  </tbody>\n",
       "</table>\n",
       "</div>"
      ],
      "text/plain": [
       "                 High        Low       Open      Close       Volume  \\\n",
       "Date                                                                  \n",
       "2009-12-31  30.478571  30.080000  30.447144  30.104286   88102700.0   \n",
       "2010-01-04  30.642857  30.340000  30.490000  30.572857  123432400.0   \n",
       "2010-01-05  30.798571  30.464285  30.657143  30.625713  150476200.0   \n",
       "2010-01-06  30.747143  30.107143  30.625713  30.138571  138040000.0   \n",
       "2010-01-07  30.285715  29.864286  30.250000  30.082857  119282800.0   \n",
       "\n",
       "            Adj Close  month  \n",
       "Date                          \n",
       "2009-12-31  20.159719     12  \n",
       "2010-01-04  20.473503      1  \n",
       "2010-01-05  20.508902      1  \n",
       "2010-01-06  20.182680      1  \n",
       "2010-01-07  20.145369      1  "
      ]
     },
     "execution_count": 31,
     "metadata": {},
     "output_type": "execute_result"
    }
   ],
   "source": [
    "# 월별합계\n",
    "df['month'] = df.index.month\n",
    "df.head()"
   ]
  },
  {
   "cell_type": "code",
   "execution_count": 32,
   "id": "71788ff3",
   "metadata": {
    "ExecuteTime": {
     "end_time": "2022-12-06T13:33:16.442937Z",
     "start_time": "2022-12-06T13:33:16.424337Z"
    }
   },
   "outputs": [
    {
     "data": {
      "text/html": [
       "<div>\n",
       "<style scoped>\n",
       "    .dataframe tbody tr th:only-of-type {\n",
       "        vertical-align: middle;\n",
       "    }\n",
       "\n",
       "    .dataframe tbody tr th {\n",
       "        vertical-align: top;\n",
       "    }\n",
       "\n",
       "    .dataframe thead th {\n",
       "        text-align: right;\n",
       "    }\n",
       "</style>\n",
       "<table border=\"1\" class=\"dataframe\">\n",
       "  <thead>\n",
       "    <tr style=\"text-align: right;\">\n",
       "      <th></th>\n",
       "      <th>High</th>\n",
       "      <th>Low</th>\n",
       "      <th>Open</th>\n",
       "      <th>Close</th>\n",
       "      <th>Volume</th>\n",
       "      <th>Adj Close</th>\n",
       "    </tr>\n",
       "    <tr>\n",
       "      <th>month</th>\n",
       "      <th></th>\n",
       "      <th></th>\n",
       "      <th></th>\n",
       "      <th></th>\n",
       "      <th></th>\n",
       "      <th></th>\n",
       "    </tr>\n",
       "  </thead>\n",
       "  <tbody>\n",
       "    <tr>\n",
       "      <th>1</th>\n",
       "      <td>16141.351418</td>\n",
       "      <td>15840.451458</td>\n",
       "      <td>16007.617104</td>\n",
       "      <td>15989.401403</td>\n",
       "      <td>1.748822e+10</td>\n",
       "      <td>14038.491524</td>\n",
       "    </tr>\n",
       "    <tr>\n",
       "      <th>2</th>\n",
       "      <td>15739.942860</td>\n",
       "      <td>15445.045748</td>\n",
       "      <td>15572.844261</td>\n",
       "      <td>15607.478556</td>\n",
       "      <td>1.511651e+10</td>\n",
       "      <td>13799.143261</td>\n",
       "    </tr>\n",
       "    <tr>\n",
       "      <th>3</th>\n",
       "      <td>18676.318544</td>\n",
       "      <td>18358.607164</td>\n",
       "      <td>18522.812897</td>\n",
       "      <td>18516.759998</td>\n",
       "      <td>1.646522e+10</td>\n",
       "      <td>16387.278601</td>\n",
       "    </tr>\n",
       "    <tr>\n",
       "      <th>4</th>\n",
       "      <td>17763.422855</td>\n",
       "      <td>17444.350006</td>\n",
       "      <td>17612.804337</td>\n",
       "      <td>17595.992851</td>\n",
       "      <td>1.656252e+10</td>\n",
       "      <td>15549.686649</td>\n",
       "    </tr>\n",
       "    <tr>\n",
       "      <th>5</th>\n",
       "      <td>18874.642849</td>\n",
       "      <td>18552.902849</td>\n",
       "      <td>18711.531479</td>\n",
       "      <td>18731.747120</td>\n",
       "      <td>1.595049e+10</td>\n",
       "      <td>16741.255772</td>\n",
       "    </tr>\n",
       "    <tr>\n",
       "      <th>6</th>\n",
       "      <td>19040.630035</td>\n",
       "      <td>18743.354290</td>\n",
       "      <td>18909.838608</td>\n",
       "      <td>18881.168510</td>\n",
       "      <td>1.427367e+10</td>\n",
       "      <td>16927.685444</td>\n",
       "    </tr>\n",
       "    <tr>\n",
       "      <th>7</th>\n",
       "      <td>18908.574245</td>\n",
       "      <td>18616.531422</td>\n",
       "      <td>18760.998562</td>\n",
       "      <td>18775.181419</td>\n",
       "      <td>1.403693e+10</td>\n",
       "      <td>16779.291849</td>\n",
       "    </tr>\n",
       "    <tr>\n",
       "      <th>8</th>\n",
       "      <td>21322.417149</td>\n",
       "      <td>20943.891430</td>\n",
       "      <td>21113.692909</td>\n",
       "      <td>21152.527245</td>\n",
       "      <td>1.505109e+10</td>\n",
       "      <td>19060.226547</td>\n",
       "    </tr>\n",
       "    <tr>\n",
       "      <th>9</th>\n",
       "      <td>19596.267178</td>\n",
       "      <td>19222.517181</td>\n",
       "      <td>19423.325752</td>\n",
       "      <td>19400.800022</td>\n",
       "      <td>1.547466e+10</td>\n",
       "      <td>17478.810833</td>\n",
       "    </tr>\n",
       "    <tr>\n",
       "      <th>10</th>\n",
       "      <td>21670.588585</td>\n",
       "      <td>21245.169964</td>\n",
       "      <td>21466.111412</td>\n",
       "      <td>21471.372849</td>\n",
       "      <td>1.579270e+10</td>\n",
       "      <td>19412.855421</td>\n",
       "    </tr>\n",
       "    <tr>\n",
       "      <th>11</th>\n",
       "      <td>19932.064278</td>\n",
       "      <td>19547.734276</td>\n",
       "      <td>19761.048534</td>\n",
       "      <td>19746.541416</td>\n",
       "      <td>1.301104e+10</td>\n",
       "      <td>17929.619272</td>\n",
       "    </tr>\n",
       "    <tr>\n",
       "      <th>12</th>\n",
       "      <td>19514.165709</td>\n",
       "      <td>19137.724298</td>\n",
       "      <td>19344.287140</td>\n",
       "      <td>19309.390026</td>\n",
       "      <td>1.223923e+10</td>\n",
       "      <td>17473.007708</td>\n",
       "    </tr>\n",
       "  </tbody>\n",
       "</table>\n",
       "</div>"
      ],
      "text/plain": [
       "               High           Low          Open         Close        Volume  \\\n",
       "month                                                                         \n",
       "1      16141.351418  15840.451458  16007.617104  15989.401403  1.748822e+10   \n",
       "2      15739.942860  15445.045748  15572.844261  15607.478556  1.511651e+10   \n",
       "3      18676.318544  18358.607164  18522.812897  18516.759998  1.646522e+10   \n",
       "4      17763.422855  17444.350006  17612.804337  17595.992851  1.656252e+10   \n",
       "5      18874.642849  18552.902849  18711.531479  18731.747120  1.595049e+10   \n",
       "6      19040.630035  18743.354290  18909.838608  18881.168510  1.427367e+10   \n",
       "7      18908.574245  18616.531422  18760.998562  18775.181419  1.403693e+10   \n",
       "8      21322.417149  20943.891430  21113.692909  21152.527245  1.505109e+10   \n",
       "9      19596.267178  19222.517181  19423.325752  19400.800022  1.547466e+10   \n",
       "10     21670.588585  21245.169964  21466.111412  21471.372849  1.579270e+10   \n",
       "11     19932.064278  19547.734276  19761.048534  19746.541416  1.301104e+10   \n",
       "12     19514.165709  19137.724298  19344.287140  19309.390026  1.223923e+10   \n",
       "\n",
       "          Adj Close  \n",
       "month                \n",
       "1      14038.491524  \n",
       "2      13799.143261  \n",
       "3      16387.278601  \n",
       "4      15549.686649  \n",
       "5      16741.255772  \n",
       "6      16927.685444  \n",
       "7      16779.291849  \n",
       "8      19060.226547  \n",
       "9      17478.810833  \n",
       "10     19412.855421  \n",
       "11     17929.619272  \n",
       "12     17473.007708  "
      ]
     },
     "execution_count": 32,
     "metadata": {},
     "output_type": "execute_result"
    }
   ],
   "source": [
    "# 월별합계 , 각 연도별 월별합계는 나오지 않은 상태.\n",
    "df.groupby('month').agg(sum)"
   ]
  },
  {
   "cell_type": "code",
   "execution_count": 33,
   "id": "2b4868ad",
   "metadata": {
    "ExecuteTime": {
     "end_time": "2022-12-06T13:34:39.865903Z",
     "start_time": "2022-12-06T13:34:39.844986Z"
    },
    "collapsed": true
   },
   "outputs": [
    {
     "data": {
      "text/html": [
       "<div>\n",
       "<style scoped>\n",
       "    .dataframe tbody tr th:only-of-type {\n",
       "        vertical-align: middle;\n",
       "    }\n",
       "\n",
       "    .dataframe tbody tr th {\n",
       "        vertical-align: top;\n",
       "    }\n",
       "\n",
       "    .dataframe thead th {\n",
       "        text-align: right;\n",
       "    }\n",
       "</style>\n",
       "<table border=\"1\" class=\"dataframe\">\n",
       "  <thead>\n",
       "    <tr style=\"text-align: right;\">\n",
       "      <th></th>\n",
       "      <th>High</th>\n",
       "      <th>Low</th>\n",
       "      <th>Open</th>\n",
       "      <th>Close</th>\n",
       "      <th>Volume</th>\n",
       "      <th>Adj Close</th>\n",
       "      <th>month</th>\n",
       "    </tr>\n",
       "    <tr>\n",
       "      <th>Date</th>\n",
       "      <th></th>\n",
       "      <th></th>\n",
       "      <th></th>\n",
       "      <th></th>\n",
       "      <th></th>\n",
       "      <th></th>\n",
       "      <th></th>\n",
       "    </tr>\n",
       "  </thead>\n",
       "  <tbody>\n",
       "    <tr>\n",
       "      <th>2009</th>\n",
       "      <td>30.478571</td>\n",
       "      <td>30.080000</td>\n",
       "      <td>30.447144</td>\n",
       "      <td>30.104286</td>\n",
       "      <td>8.810270e+07</td>\n",
       "      <td>20.159719</td>\n",
       "      <td>12</td>\n",
       "    </tr>\n",
       "    <tr>\n",
       "      <th>2010</th>\n",
       "      <td>9445.277117</td>\n",
       "      <td>9246.514246</td>\n",
       "      <td>9358.474289</td>\n",
       "      <td>9354.328560</td>\n",
       "      <td>3.775623e+10</td>\n",
       "      <td>6264.245874</td>\n",
       "      <td>1659</td>\n",
       "    </tr>\n",
       "    <tr>\n",
       "      <th>2011</th>\n",
       "      <td>13227.248539</td>\n",
       "      <td>12970.717155</td>\n",
       "      <td>13106.211399</td>\n",
       "      <td>13104.155712</td>\n",
       "      <td>3.101483e+10</td>\n",
       "      <td>8775.365667</td>\n",
       "      <td>1650</td>\n",
       "    </tr>\n",
       "    <tr>\n",
       "      <th>2012</th>\n",
       "      <td>20779.478600</td>\n",
       "      <td>20354.327164</td>\n",
       "      <td>20594.740028</td>\n",
       "      <td>20573.204269</td>\n",
       "      <td>3.299105e+10</td>\n",
       "      <td>14019.096821</td>\n",
       "      <td>1625</td>\n",
       "    </tr>\n",
       "    <tr>\n",
       "      <th>2013</th>\n",
       "      <td>17195.001381</td>\n",
       "      <td>16856.895695</td>\n",
       "      <td>17032.612881</td>\n",
       "      <td>17014.855690</td>\n",
       "      <td>2.560539e+10</td>\n",
       "      <td>13377.068882</td>\n",
       "      <td>1649</td>\n",
       "    </tr>\n",
       "    <tr>\n",
       "      <th>2014</th>\n",
       "      <td>23439.191429</td>\n",
       "      <td>23051.835686</td>\n",
       "      <td>23239.397186</td>\n",
       "      <td>23250.692886</td>\n",
       "      <td>1.591449e+10</td>\n",
       "      <td>21242.415085</td>\n",
       "      <td>1651</td>\n",
       "    </tr>\n",
       "    <tr>\n",
       "      <th>2015</th>\n",
       "      <td>30553.620010</td>\n",
       "      <td>29953.500031</td>\n",
       "      <td>30284.289993</td>\n",
       "      <td>30250.079948</td>\n",
       "      <td>1.306315e+10</td>\n",
       "      <td>28458.719048</td>\n",
       "      <td>1655</td>\n",
       "    </tr>\n",
       "    <tr>\n",
       "      <th>2016</th>\n",
       "      <td>26567.650009</td>\n",
       "      <td>26129.949989</td>\n",
       "      <td>26335.959984</td>\n",
       "      <td>26360.209991</td>\n",
       "      <td>9.680622e+09</td>\n",
       "      <td>25313.373260</td>\n",
       "      <td>1652</td>\n",
       "    </tr>\n",
       "    <tr>\n",
       "      <th>2017</th>\n",
       "      <td>38002.920044</td>\n",
       "      <td>37521.400078</td>\n",
       "      <td>37761.670013</td>\n",
       "      <td>37788.319946</td>\n",
       "      <td>6.810426e+09</td>\n",
       "      <td>36972.054916</td>\n",
       "      <td>1640</td>\n",
       "    </tr>\n",
       "    <tr>\n",
       "      <th>2018</th>\n",
       "      <td>47939.520004</td>\n",
       "      <td>46983.060043</td>\n",
       "      <td>47463.110077</td>\n",
       "      <td>47452.410126</td>\n",
       "      <td>8.537986e+09</td>\n",
       "      <td>47134.853607</td>\n",
       "      <td>1633</td>\n",
       "    </tr>\n",
       "  </tbody>\n",
       "</table>\n",
       "</div>"
      ],
      "text/plain": [
       "              High           Low          Open         Close        Volume  \\\n",
       "Date                                                                         \n",
       "2009     30.478571     30.080000     30.447144     30.104286  8.810270e+07   \n",
       "2010   9445.277117   9246.514246   9358.474289   9354.328560  3.775623e+10   \n",
       "2011  13227.248539  12970.717155  13106.211399  13104.155712  3.101483e+10   \n",
       "2012  20779.478600  20354.327164  20594.740028  20573.204269  3.299105e+10   \n",
       "2013  17195.001381  16856.895695  17032.612881  17014.855690  2.560539e+10   \n",
       "2014  23439.191429  23051.835686  23239.397186  23250.692886  1.591449e+10   \n",
       "2015  30553.620010  29953.500031  30284.289993  30250.079948  1.306315e+10   \n",
       "2016  26567.650009  26129.949989  26335.959984  26360.209991  9.680622e+09   \n",
       "2017  38002.920044  37521.400078  37761.670013  37788.319946  6.810426e+09   \n",
       "2018  47939.520004  46983.060043  47463.110077  47452.410126  8.537986e+09   \n",
       "\n",
       "         Adj Close  month  \n",
       "Date                       \n",
       "2009     20.159719     12  \n",
       "2010   6264.245874   1659  \n",
       "2011   8775.365667   1650  \n",
       "2012  14019.096821   1625  \n",
       "2013  13377.068882   1649  \n",
       "2014  21242.415085   1651  \n",
       "2015  28458.719048   1655  \n",
       "2016  25313.373260   1652  \n",
       "2017  36972.054916   1640  \n",
       "2018  47134.853607   1633  "
      ]
     },
     "execution_count": 33,
     "metadata": {},
     "output_type": "execute_result"
    }
   ],
   "source": [
    "df.groupby(df.index.year).sum()"
   ]
  },
  {
   "cell_type": "code",
   "execution_count": 35,
   "id": "973f6113",
   "metadata": {
    "ExecuteTime": {
     "end_time": "2022-12-06T13:35:59.681137Z",
     "start_time": "2022-12-06T13:35:59.651379Z"
    }
   },
   "outputs": [
    {
     "data": {
      "text/html": [
       "<div>\n",
       "<style scoped>\n",
       "    .dataframe tbody tr th:only-of-type {\n",
       "        vertical-align: middle;\n",
       "    }\n",
       "\n",
       "    .dataframe tbody tr th {\n",
       "        vertical-align: top;\n",
       "    }\n",
       "\n",
       "    .dataframe thead th {\n",
       "        text-align: right;\n",
       "    }\n",
       "</style>\n",
       "<table border=\"1\" class=\"dataframe\">\n",
       "  <thead>\n",
       "    <tr style=\"text-align: right;\">\n",
       "      <th></th>\n",
       "      <th></th>\n",
       "      <th>High</th>\n",
       "      <th>Low</th>\n",
       "      <th>Open</th>\n",
       "      <th>Close</th>\n",
       "      <th>Volume</th>\n",
       "      <th>Adj Close</th>\n",
       "      <th>month</th>\n",
       "    </tr>\n",
       "    <tr>\n",
       "      <th>Date</th>\n",
       "      <th>Date</th>\n",
       "      <th></th>\n",
       "      <th></th>\n",
       "      <th></th>\n",
       "      <th></th>\n",
       "      <th></th>\n",
       "      <th></th>\n",
       "      <th></th>\n",
       "    </tr>\n",
       "  </thead>\n",
       "  <tbody>\n",
       "    <tr>\n",
       "      <th>2009</th>\n",
       "      <th>12</th>\n",
       "      <td>30.478571</td>\n",
       "      <td>30.080000</td>\n",
       "      <td>30.447144</td>\n",
       "      <td>30.104286</td>\n",
       "      <td>8.810270e+07</td>\n",
       "      <td>20.159719</td>\n",
       "      <td>12</td>\n",
       "    </tr>\n",
       "    <tr>\n",
       "      <th rowspan=\"4\" valign=\"top\">2010</th>\n",
       "      <th>1</th>\n",
       "      <td>573.331425</td>\n",
       "      <td>557.244289</td>\n",
       "      <td>568.397141</td>\n",
       "      <td>563.798571</td>\n",
       "      <td>3.792249e+09</td>\n",
       "      <td>377.554930</td>\n",
       "      <td>19</td>\n",
       "    </tr>\n",
       "    <tr>\n",
       "      <th>2</th>\n",
       "      <td>544.092857</td>\n",
       "      <td>532.875715</td>\n",
       "      <td>537.678570</td>\n",
       "      <td>539.588568</td>\n",
       "      <td>2.694020e+09</td>\n",
       "      <td>361.342400</td>\n",
       "      <td>38</td>\n",
       "    </tr>\n",
       "    <tr>\n",
       "      <th>3</th>\n",
       "      <td>738.235716</td>\n",
       "      <td>727.080000</td>\n",
       "      <td>732.047146</td>\n",
       "      <td>734.064285</td>\n",
       "      <td>3.038543e+09</td>\n",
       "      <td>491.575537</td>\n",
       "      <td>69</td>\n",
       "    </tr>\n",
       "    <tr>\n",
       "      <th>4</th>\n",
       "      <td>759.410004</td>\n",
       "      <td>744.359997</td>\n",
       "      <td>753.004292</td>\n",
       "      <td>753.445721</td>\n",
       "      <td>3.091782e+09</td>\n",
       "      <td>504.554579</td>\n",
       "      <td>84</td>\n",
       "    </tr>\n",
       "    <tr>\n",
       "      <th>...</th>\n",
       "      <th>...</th>\n",
       "      <td>...</td>\n",
       "      <td>...</td>\n",
       "      <td>...</td>\n",
       "      <td>...</td>\n",
       "      <td>...</td>\n",
       "      <td>...</td>\n",
       "      <td>...</td>\n",
       "    </tr>\n",
       "    <tr>\n",
       "      <th rowspan=\"5\" valign=\"top\">2018</th>\n",
       "      <th>8</th>\n",
       "      <td>4934.909988</td>\n",
       "      <td>4860.029999</td>\n",
       "      <td>4883.340012</td>\n",
       "      <td>4906.960037</td>\n",
       "      <td>7.002737e+08</td>\n",
       "      <td>4884.851288</td>\n",
       "      <td>184</td>\n",
       "    </tr>\n",
       "    <tr>\n",
       "      <th>9</th>\n",
       "      <td>4266.080002</td>\n",
       "      <td>4181.480011</td>\n",
       "      <td>4224.290009</td>\n",
       "      <td>4219.400024</td>\n",
       "      <td>6.789720e+08</td>\n",
       "      <td>4204.729004</td>\n",
       "      <td>171</td>\n",
       "    </tr>\n",
       "    <tr>\n",
       "      <th>10</th>\n",
       "      <td>5150.640030</td>\n",
       "      <td>5011.109985</td>\n",
       "      <td>5087.600021</td>\n",
       "      <td>5079.449997</td>\n",
       "      <td>7.897485e+08</td>\n",
       "      <td>5061.788559</td>\n",
       "      <td>230</td>\n",
       "    </tr>\n",
       "    <tr>\n",
       "      <th>11</th>\n",
       "      <td>4072.939987</td>\n",
       "      <td>3962.709976</td>\n",
       "      <td>4028.209991</td>\n",
       "      <td>4015.949997</td>\n",
       "      <td>9.613264e+08</td>\n",
       "      <td>4012.316437</td>\n",
       "      <td>231</td>\n",
       "    </tr>\n",
       "    <tr>\n",
       "      <th>12</th>\n",
       "      <td>3179.080017</td>\n",
       "      <td>3075.930023</td>\n",
       "      <td>3139.619995</td>\n",
       "      <td>3121.060028</td>\n",
       "      <td>8.989225e+08</td>\n",
       "      <td>3121.060028</td>\n",
       "      <td>228</td>\n",
       "    </tr>\n",
       "  </tbody>\n",
       "</table>\n",
       "<p>109 rows × 7 columns</p>\n",
       "</div>"
      ],
      "text/plain": [
       "                  High          Low         Open        Close        Volume  \\\n",
       "Date Date                                                                     \n",
       "2009 12      30.478571    30.080000    30.447144    30.104286  8.810270e+07   \n",
       "2010 1      573.331425   557.244289   568.397141   563.798571  3.792249e+09   \n",
       "     2      544.092857   532.875715   537.678570   539.588568  2.694020e+09   \n",
       "     3      738.235716   727.080000   732.047146   734.064285  3.038543e+09   \n",
       "     4      759.410004   744.359997   753.004292   753.445721  3.091782e+09   \n",
       "...                ...          ...          ...          ...           ...   \n",
       "2018 8     4934.909988  4860.029999  4883.340012  4906.960037  7.002737e+08   \n",
       "     9     4266.080002  4181.480011  4224.290009  4219.400024  6.789720e+08   \n",
       "     10    5150.640030  5011.109985  5087.600021  5079.449997  7.897485e+08   \n",
       "     11    4072.939987  3962.709976  4028.209991  4015.949997  9.613264e+08   \n",
       "     12    3179.080017  3075.930023  3139.619995  3121.060028  8.989225e+08   \n",
       "\n",
       "             Adj Close  month  \n",
       "Date Date                      \n",
       "2009 12      20.159719     12  \n",
       "2010 1      377.554930     19  \n",
       "     2      361.342400     38  \n",
       "     3      491.575537     69  \n",
       "     4      504.554579     84  \n",
       "...                ...    ...  \n",
       "2018 8     4884.851288    184  \n",
       "     9     4204.729004    171  \n",
       "     10    5061.788559    230  \n",
       "     11    4012.316437    231  \n",
       "     12    3121.060028    228  \n",
       "\n",
       "[109 rows x 7 columns]"
      ]
     },
     "execution_count": 35,
     "metadata": {},
     "output_type": "execute_result"
    }
   ],
   "source": [
    "# 각 연도별 월별 합계\n",
    "df.groupby([df.index.year, df.index.month]).agg(sum)"
   ]
  },
  {
   "cell_type": "markdown",
   "id": "50af7747",
   "metadata": {},
   "source": [
    "## https://pandas.pydata.org/docs/user_guide/timeseries.html#offset-aliases"
   ]
  },
  {
   "cell_type": "code",
   "execution_count": 40,
   "id": "9a355bf4",
   "metadata": {
    "ExecuteTime": {
     "end_time": "2022-12-06T13:40:16.616034Z",
     "start_time": "2022-12-06T13:40:16.600888Z"
    }
   },
   "outputs": [
    {
     "name": "stderr",
     "output_type": "stream",
     "text": [
      "/var/folders/9s/t04w6g091zlcvn1bbhf9dj040000gn/T/ipykernel_5458/3800065615.py:1: FutureWarning: Indexing a DataFrame with a datetimelike index using a single string to slice the rows, like `frame[string]`, is deprecated and will be removed in a future version. Use `frame.loc[string]` instead.\n",
      "  df.resample(rule='A').sum()['2009']\n"
     ]
    },
    {
     "data": {
      "text/html": [
       "<div>\n",
       "<style scoped>\n",
       "    .dataframe tbody tr th:only-of-type {\n",
       "        vertical-align: middle;\n",
       "    }\n",
       "\n",
       "    .dataframe tbody tr th {\n",
       "        vertical-align: top;\n",
       "    }\n",
       "\n",
       "    .dataframe thead th {\n",
       "        text-align: right;\n",
       "    }\n",
       "</style>\n",
       "<table border=\"1\" class=\"dataframe\">\n",
       "  <thead>\n",
       "    <tr style=\"text-align: right;\">\n",
       "      <th></th>\n",
       "      <th>High</th>\n",
       "      <th>Low</th>\n",
       "      <th>Open</th>\n",
       "      <th>Close</th>\n",
       "      <th>Volume</th>\n",
       "      <th>Adj Close</th>\n",
       "      <th>month</th>\n",
       "    </tr>\n",
       "    <tr>\n",
       "      <th>Date</th>\n",
       "      <th></th>\n",
       "      <th></th>\n",
       "      <th></th>\n",
       "      <th></th>\n",
       "      <th></th>\n",
       "      <th></th>\n",
       "      <th></th>\n",
       "    </tr>\n",
       "  </thead>\n",
       "  <tbody>\n",
       "    <tr>\n",
       "      <th>2009-12-31</th>\n",
       "      <td>30.478571</td>\n",
       "      <td>30.08</td>\n",
       "      <td>30.447144</td>\n",
       "      <td>30.104286</td>\n",
       "      <td>88102700.0</td>\n",
       "      <td>20.159719</td>\n",
       "      <td>12</td>\n",
       "    </tr>\n",
       "  </tbody>\n",
       "</table>\n",
       "</div>"
      ],
      "text/plain": [
       "                 High    Low       Open      Close      Volume  Adj Close  \\\n",
       "Date                                                                        \n",
       "2009-12-31  30.478571  30.08  30.447144  30.104286  88102700.0  20.159719   \n",
       "\n",
       "            month  \n",
       "Date               \n",
       "2009-12-31     12  "
      ]
     },
     "execution_count": 40,
     "metadata": {},
     "output_type": "execute_result"
    }
   ],
   "source": [
    "df.resample(rule='A').sum()['2009']"
   ]
  },
  {
   "cell_type": "code",
   "execution_count": 41,
   "id": "226293f2",
   "metadata": {
    "ExecuteTime": {
     "end_time": "2022-12-06T13:42:12.196362Z",
     "start_time": "2022-12-06T13:42:12.193488Z"
    }
   },
   "outputs": [],
   "source": [
    "def first_day(sample):\n",
    "    return sample[0]"
   ]
  },
  {
   "cell_type": "code",
   "execution_count": 42,
   "id": "1028b930",
   "metadata": {
    "ExecuteTime": {
     "end_time": "2022-12-06T13:42:15.885005Z",
     "start_time": "2022-12-06T13:42:15.858700Z"
    }
   },
   "outputs": [
    {
     "data": {
      "text/html": [
       "<div>\n",
       "<style scoped>\n",
       "    .dataframe tbody tr th:only-of-type {\n",
       "        vertical-align: middle;\n",
       "    }\n",
       "\n",
       "    .dataframe tbody tr th {\n",
       "        vertical-align: top;\n",
       "    }\n",
       "\n",
       "    .dataframe thead th {\n",
       "        text-align: right;\n",
       "    }\n",
       "</style>\n",
       "<table border=\"1\" class=\"dataframe\">\n",
       "  <thead>\n",
       "    <tr style=\"text-align: right;\">\n",
       "      <th></th>\n",
       "      <th>High</th>\n",
       "      <th>Low</th>\n",
       "      <th>Open</th>\n",
       "      <th>Close</th>\n",
       "      <th>Volume</th>\n",
       "      <th>Adj Close</th>\n",
       "      <th>month</th>\n",
       "    </tr>\n",
       "    <tr>\n",
       "      <th>Date</th>\n",
       "      <th></th>\n",
       "      <th></th>\n",
       "      <th></th>\n",
       "      <th></th>\n",
       "      <th></th>\n",
       "      <th></th>\n",
       "      <th></th>\n",
       "    </tr>\n",
       "  </thead>\n",
       "  <tbody>\n",
       "    <tr>\n",
       "      <th>2009-12-31</th>\n",
       "      <td>30.478571</td>\n",
       "      <td>30.080000</td>\n",
       "      <td>30.447144</td>\n",
       "      <td>30.104286</td>\n",
       "      <td>88102700.0</td>\n",
       "      <td>20.159719</td>\n",
       "      <td>12</td>\n",
       "    </tr>\n",
       "    <tr>\n",
       "      <th>2010-12-31</th>\n",
       "      <td>30.642857</td>\n",
       "      <td>30.340000</td>\n",
       "      <td>30.490000</td>\n",
       "      <td>30.572857</td>\n",
       "      <td>123432400.0</td>\n",
       "      <td>20.473503</td>\n",
       "      <td>1</td>\n",
       "    </tr>\n",
       "    <tr>\n",
       "      <th>2011-12-31</th>\n",
       "      <td>47.180000</td>\n",
       "      <td>46.405716</td>\n",
       "      <td>46.520000</td>\n",
       "      <td>47.081429</td>\n",
       "      <td>111284600.0</td>\n",
       "      <td>31.528688</td>\n",
       "      <td>1</td>\n",
       "    </tr>\n",
       "    <tr>\n",
       "      <th>2012-12-31</th>\n",
       "      <td>58.928570</td>\n",
       "      <td>58.428570</td>\n",
       "      <td>58.485714</td>\n",
       "      <td>58.747143</td>\n",
       "      <td>75555200.0</td>\n",
       "      <td>39.340778</td>\n",
       "      <td>1</td>\n",
       "    </tr>\n",
       "    <tr>\n",
       "      <th>2013-12-31</th>\n",
       "      <td>79.285713</td>\n",
       "      <td>77.375717</td>\n",
       "      <td>79.117142</td>\n",
       "      <td>78.432854</td>\n",
       "      <td>140129500.0</td>\n",
       "      <td>55.923737</td>\n",
       "      <td>1</td>\n",
       "    </tr>\n",
       "    <tr>\n",
       "      <th>2014-12-31</th>\n",
       "      <td>79.575714</td>\n",
       "      <td>78.860001</td>\n",
       "      <td>79.382858</td>\n",
       "      <td>79.018570</td>\n",
       "      <td>58671200.0</td>\n",
       "      <td>67.251503</td>\n",
       "      <td>1</td>\n",
       "    </tr>\n",
       "    <tr>\n",
       "      <th>2015-12-31</th>\n",
       "      <td>111.440002</td>\n",
       "      <td>107.349998</td>\n",
       "      <td>111.389999</td>\n",
       "      <td>109.330002</td>\n",
       "      <td>53204600.0</td>\n",
       "      <td>101.963631</td>\n",
       "      <td>1</td>\n",
       "    </tr>\n",
       "    <tr>\n",
       "      <th>2016-12-31</th>\n",
       "      <td>105.370003</td>\n",
       "      <td>102.000000</td>\n",
       "      <td>102.610001</td>\n",
       "      <td>105.349998</td>\n",
       "      <td>67649400.0</td>\n",
       "      <td>99.925850</td>\n",
       "      <td>1</td>\n",
       "    </tr>\n",
       "    <tr>\n",
       "      <th>2017-12-31</th>\n",
       "      <td>116.330002</td>\n",
       "      <td>114.760002</td>\n",
       "      <td>115.800003</td>\n",
       "      <td>116.150002</td>\n",
       "      <td>28781900.0</td>\n",
       "      <td>112.620964</td>\n",
       "      <td>1</td>\n",
       "    </tr>\n",
       "    <tr>\n",
       "      <th>2018-12-31</th>\n",
       "      <td>172.300003</td>\n",
       "      <td>169.259995</td>\n",
       "      <td>170.160004</td>\n",
       "      <td>172.259995</td>\n",
       "      <td>25555900.0</td>\n",
       "      <td>169.712067</td>\n",
       "      <td>1</td>\n",
       "    </tr>\n",
       "  </tbody>\n",
       "</table>\n",
       "</div>"
      ],
      "text/plain": [
       "                  High         Low        Open       Close       Volume  \\\n",
       "Date                                                                      \n",
       "2009-12-31   30.478571   30.080000   30.447144   30.104286   88102700.0   \n",
       "2010-12-31   30.642857   30.340000   30.490000   30.572857  123432400.0   \n",
       "2011-12-31   47.180000   46.405716   46.520000   47.081429  111284600.0   \n",
       "2012-12-31   58.928570   58.428570   58.485714   58.747143   75555200.0   \n",
       "2013-12-31   79.285713   77.375717   79.117142   78.432854  140129500.0   \n",
       "2014-12-31   79.575714   78.860001   79.382858   79.018570   58671200.0   \n",
       "2015-12-31  111.440002  107.349998  111.389999  109.330002   53204600.0   \n",
       "2016-12-31  105.370003  102.000000  102.610001  105.349998   67649400.0   \n",
       "2017-12-31  116.330002  114.760002  115.800003  116.150002   28781900.0   \n",
       "2018-12-31  172.300003  169.259995  170.160004  172.259995   25555900.0   \n",
       "\n",
       "             Adj Close  month  \n",
       "Date                           \n",
       "2009-12-31   20.159719     12  \n",
       "2010-12-31   20.473503      1  \n",
       "2011-12-31   31.528688      1  \n",
       "2012-12-31   39.340778      1  \n",
       "2013-12-31   55.923737      1  \n",
       "2014-12-31   67.251503      1  \n",
       "2015-12-31  101.963631      1  \n",
       "2016-12-31   99.925850      1  \n",
       "2017-12-31  112.620964      1  \n",
       "2018-12-31  169.712067      1  "
      ]
     },
     "execution_count": 42,
     "metadata": {},
     "output_type": "execute_result"
    }
   ],
   "source": [
    "df.resample(rule='A').apply(first_day)"
   ]
  },
  {
   "cell_type": "code",
   "execution_count": 48,
   "id": "2bd027b1",
   "metadata": {
    "ExecuteTime": {
     "end_time": "2022-12-06T13:44:32.478316Z",
     "start_time": "2022-12-06T13:44:32.354242Z"
    }
   },
   "outputs": [
    {
     "data": {
      "text/plain": [
       "<AxesSubplot: xlabel='Date'>"
      ]
     },
     "execution_count": 48,
     "metadata": {},
     "output_type": "execute_result"
    },
    {
     "data": {
      "image/png": "[encoded data removed]",
      "text/plain": [
       "<Figure size 640x480 with 1 Axes>"
      ]
     },
     "metadata": {},
     "output_type": "display_data"
    }
   ],
   "source": [
    "df['Close'].resample('A').mean().plot(kind='bar')"
   ]
  },
  {
   "cell_type": "code",
   "execution_count": 52,
   "id": "fdd5d630",
   "metadata": {
    "ExecuteTime": {
     "end_time": "2022-12-06T13:46:25.805587Z",
     "start_time": "2022-12-06T13:46:25.537772Z"
    }
   },
   "outputs": [
    {
     "data": {
      "text/plain": [
       "<AxesSubplot: xlabel='Date'>"
      ]
     },
     "execution_count": 52,
     "metadata": {},
     "output_type": "execute_result"
    },
    {
     "data": {
      "image/png": "[encoded data removed]",
      "text/plain": [
       "<Figure size 1500x1000 with 1 Axes>"
      ]
     },
     "metadata": {},
     "output_type": "display_data"
    }
   ],
   "source": [
    "df['Open']['2015':].resample('M').max().plot(kind='bar', figsize=(15,10))"
   ]
  },
  {
   "cell_type": "code",
   "execution_count": null,
   "id": "009e785a",
   "metadata": {},
   "outputs": [],
   "source": []
  }
 ],
 "metadata": {
  "kernelspec": {
   "display_name": "Python 3 (ipykernel)",
   "language": "python",
   "name": "python3"
  },
  "language_info": {
   "codemirror_mode": {
    "name": "ipython",
    "version": 3
   },
   "file_extension": ".py",
   "mimetype": "text/x-python",
   "name": "python",
   "nbconvert_exporter": "python",
   "pygments_lexer": "ipython3",
   "version": "3.10.5"
  },
  "toc": {
   "base_numbering": 1,
   "nav_menu": {},
   "number_sections": true,
   "sideBar": true,
   "skip_h1_title": false,
   "title_cell": "Table of Contents",
   "title_sidebar": "Contents",
   "toc_cell": false,
   "toc_position": {},
   "toc_section_display": true,
   "toc_window_display": false
  }
 },
 "nbformat": 4,
 "nbformat_minor": 5
}
