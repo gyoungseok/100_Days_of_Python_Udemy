{
 "cells": [
  {
   "cell_type": "code",
   "execution_count": 3,
   "metadata": {},
   "outputs": [],
   "source": [
    "def default_value():\n",
    "    return 10"
   ]
  },
  {
   "cell_type": "code",
   "execution_count": 2,
   "metadata": {},
   "outputs": [],
   "source": [
    "from collections import defaultdict"
   ]
  },
  {
   "cell_type": "code",
   "execution_count": 7,
   "metadata": {},
   "outputs": [
    {
     "data": {
      "text/plain": [
       "defaultdict(<function __main__.<lambda>()>, {})"
      ]
     },
     "execution_count": 7,
     "metadata": {},
     "output_type": "execute_result"
    }
   ],
   "source": [
    "d = defaultdict(lambda : 0)\n",
    "d"
   ]
  },
  {
   "cell_type": "code",
   "execution_count": 8,
   "metadata": {},
   "outputs": [
    {
     "data": {
      "text/plain": [
       "0"
      ]
     },
     "execution_count": 8,
     "metadata": {},
     "output_type": "execute_result"
    }
   ],
   "source": [
    "d['first']"
   ]
  },
  {
   "cell_type": "code",
   "execution_count": 10,
   "metadata": {},
   "outputs": [
    {
     "data": {
      "text/plain": [
       "10"
      ]
     },
     "execution_count": 10,
     "metadata": {},
     "output_type": "execute_result"
    }
   ],
   "source": [
    "d = defaultdict(default_value)\n",
    "d['first']"
   ]
  },
  {
   "cell_type": "code",
   "execution_count": 18,
   "metadata": {},
   "outputs": [],
   "source": [
    "text = \"\"\"A press release is the quickest and easiest way to get free publicity. If\n",
    "well written, a press release can result in multiple published articles about your\n",
    "firm and its products. And that can mean new prospects contacting you asking you to\n",
    "sell to them. ….\"\"\".lower().split()"
   ]
  },
  {
   "cell_type": "code",
   "execution_count": 19,
   "metadata": {},
   "outputs": [
    {
     "data": {
      "text/plain": [
       "['a',\n",
       " 'press',\n",
       " 'release',\n",
       " 'is',\n",
       " 'the',\n",
       " 'quickest',\n",
       " 'and',\n",
       " 'easiest',\n",
       " 'way',\n",
       " 'to',\n",
       " 'get',\n",
       " 'free',\n",
       " 'publicity.',\n",
       " 'if',\n",
       " 'well',\n",
       " 'written,',\n",
       " 'a',\n",
       " 'press',\n",
       " 'release',\n",
       " 'can',\n",
       " 'result',\n",
       " 'in',\n",
       " 'multiple',\n",
       " 'published',\n",
       " 'articles',\n",
       " 'about',\n",
       " 'your',\n",
       " 'firm',\n",
       " 'and',\n",
       " 'its',\n",
       " 'products.',\n",
       " 'and',\n",
       " 'that',\n",
       " 'can',\n",
       " 'mean',\n",
       " 'new',\n",
       " 'prospects',\n",
       " 'contacting',\n",
       " 'you',\n",
       " 'asking',\n",
       " 'you',\n",
       " 'to',\n",
       " 'sell',\n",
       " 'to',\n",
       " 'them.',\n",
       " '….']"
      ]
     },
     "execution_count": 19,
     "metadata": {},
     "output_type": "execute_result"
    }
   ],
   "source": [
    "text"
   ]
  },
  {
   "cell_type": "code",
   "execution_count": 20,
   "metadata": {},
   "outputs": [],
   "source": [
    "def get_key(x):\n",
    "    return x[1]"
   ]
  },
  {
   "cell_type": "code",
   "execution_count": 21,
   "metadata": {},
   "outputs": [],
   "source": [
    "from collections import OrderedDict"
   ]
  },
  {
   "cell_type": "code",
   "execution_count": 22,
   "metadata": {},
   "outputs": [
    {
     "data": {
      "text/plain": [
       "defaultdict(<function __main__.<lambda>()>, {})"
      ]
     },
     "execution_count": 22,
     "metadata": {},
     "output_type": "execute_result"
    }
   ],
   "source": [
    "d = defaultdict(lambda : 0)\n",
    "d"
   ]
  },
  {
   "cell_type": "code",
   "execution_count": 24,
   "metadata": {},
   "outputs": [],
   "source": [
    "for word in text:\n",
    "    d[word] += 1"
   ]
  },
  {
   "cell_type": "code",
   "execution_count": 28,
   "metadata": {},
   "outputs": [
    {
     "name": "stdout",
     "output_type": "stream",
     "text": [
      "OrderedDict([('and', 6), ('to', 6), ('a', 4), ('press', 4), ('release', 4), ('can', 4), ('you', 4), ('is', 2), ('the', 2), ('quickest', 2), ('easiest', 2), ('way', 2), ('get', 2), ('free', 2), ('publicity.', 2), ('if', 2), ('well', 2), ('written,', 2), ('result', 2), ('in', 2), ('multiple', 2), ('published', 2), ('articles', 2), ('about', 2), ('your', 2), ('firm', 2), ('its', 2), ('products.', 2), ('that', 2), ('mean', 2), ('new', 2), ('prospects', 2), ('contacting', 2), ('asking', 2), ('sell', 2), ('them.', 2), ('….', 2)])\n"
     ]
    },
    {
     "data": {
      "text/plain": [
       "2"
      ]
     },
     "execution_count": 28,
     "metadata": {},
     "output_type": "execute_result"
    }
   ],
   "source": [
    "sorted_dict = OrderedDict()\n",
    "for i, v in sorted(d.items(), key=get_key, reverse=True):\n",
    "    sorted_dict[i] = v\n",
    "    \n",
    "print(sorted_dict)\n",
    "\n",
    "sorted_dict['free']"
   ]
  },
  {
   "cell_type": "code",
   "execution_count": null,
   "metadata": {},
   "outputs": [],
   "source": []
  }
 ],
 "metadata": {
  "kernelspec": {
   "display_name": "Python 3.10.5 64-bit ('3.10.5')",
   "language": "python",
   "name": "python3"
  },
  "language_info": {
   "codemirror_mode": {
    "name": "ipython",
    "version": 3
   },
   "file_extension": ".py",
   "mimetype": "text/x-python",
   "name": "python",
   "nbconvert_exporter": "python",
   "pygments_lexer": "ipython3",
   "version": "3.10.5"
  },
  "orig_nbformat": 4,
  "vscode": {
   "interpreter": {
    "hash": "7edc2447b8bb2a66b994343b17950b85ada37733c3431a3e95990855290494ee"
   }
  }
 },
 "nbformat": 4,
 "nbformat_minor": 2
}
