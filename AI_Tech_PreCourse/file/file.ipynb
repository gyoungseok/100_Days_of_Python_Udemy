{
 "cells": [
  {
   "cell_type": "code",
   "execution_count": 2,
   "metadata": {},
   "outputs": [
    {
     "name": "stdout",
     "output_type": "stream",
     "text": [
      "HELLO\n"
     ]
    }
   ],
   "source": [
    "f = open('test.txt', 'r')\n",
    "contents = f.read() # .txt 파일 안에 있는 내용을 문자열로 변환\n",
    "print(contents)\n",
    "f.close()"
   ]
  },
  {
   "cell_type": "code",
   "execution_count": 3,
   "metadata": {},
   "outputs": [
    {
     "name": "stdout",
     "output_type": "stream",
     "text": [
      "<class 'str'> HELLO\n"
     ]
    }
   ],
   "source": [
    "# with\n",
    "with open('test.txt', 'r') as my_file:\n",
    "    contents = my_file.read()\n",
    "    print(type(contents), contents)"
   ]
  },
  {
   "cell_type": "code",
   "execution_count": 4,
   "metadata": {},
   "outputs": [
    {
     "name": "stdout",
     "output_type": "stream",
     "text": [
      "<class 'list'>\n",
      "['\\n', 'And so even though we face the difficulties of today and tomorrow, I still have a dream. It is a dream deeply rooted in the American dream.\\n', ' \\n', 'I have a dream that one day this nation will rise up and live out the true meaning of its creed:\\n', ' \\n', 'We hold these truths to be self-evident, that all men are created equal.\\n', ' \\n', 'I have a dream that one day on the red hills of Georgia, the sons of former slaves and the sons of former slave owners will be able to sit down together at the table of brotherhood.\\n', ' \\n', 'I have a dream that one day even the state of Mississippi, a state sweltering with the heat of injustice, sweltering with the heat of oppression, will be transformed into an oasis of freedom and justice.\\n', ' \\n', 'I have a dream that my four little children will one day live in a nation where they will not be judged by the color of their skin but by the content of their character.\\n', ' \\n', 'I have a dream today!\\n', ' \\n', 'I have a dream that one day, down in Alabama, with its vicious racists, with its governor having his lips dripping with the words of interposition and nullification, one day right there in Alabama little black boys and black girls will be able to join hands with little white boys and white girls as sisters and brothers.\\n', ' \\n', 'I have a dream today!\\n', ' \\n', 'I have a dream that one day every valley shall be exalted, and every hill and mountain shall be made low, the rough places will be made plain, and the crooked places will be made straight; and the glory of the Lord shall be revealed and all flesh shall see it together.\\n', ' \\n', 'This is our hope, and this is the faith that I go back to the South with.\\n', ' \\n', 'With this faith, we will be able to hew out of the mountain of despair a stone of hope. With this faith, we will be able to transform the jangling discords of our nation into a beautiful symphony of brotherhood. With this faith, we will be able to work together, to pray together, to struggle together, to go to jail together, to stand up for freedom together, knowing that we will be free one day.\\n', ' \\n', 'And this will be the day, this will be the day when all of God s children will be able to sing with new meaning:\\n', ' \\n', 'My country  tis of thee, sweet land of liberty, of thee I sing.\\n', 'Land where my fathers died, land of the Pilgrim s pride,\\n', 'From every mountainside, let freedom ring!\\n', 'And if America is to be a great nation, this must become true.\\n', 'And so let freedom ring from the prodigious hilltops of New Hampshire.\\n', 'Let freedom ring from the mighty mountains of New York.\\n', 'Let freedom ring from the heightening Alleghenies of Pennsylvania.\\n', 'Let freedom ring from the snow-capped Rockies of Colorado.\\n', 'Let freedom ring from the curvaceous slopes of California.\\n', ' \\n', 'But not only that:\\n', 'Let freedom ring from Stone Mountain of Georgia.\\n', 'Let freedom ring from Lookout Mountain of Tennessee.\\n', 'Let freedom ring from every hill and molehill of Mississippi.\\n', 'From every mountainside, let freedom ring.\\n', 'And when this happens, when we allow freedom ring, when we let it ring from every village and every hamlet, from every state and every city, we will be able to speed up that day when all of God s children, black men and white men, Jews and Gentiles, Protestants and Catholics, will be able to join hands and sing in the words of the old Negro spiritual:\\n', 'Free at last! Free at last!\\n', ' \\n', 'Thank God Almighty, we are free at last!']\n"
     ]
    }
   ],
   "source": [
    "with open('test.txt', 'r') as my_file:\n",
    "    content_list = my_file.readlines() # 파일 전체를 list로 반환\n",
    "    print(type(content_list))\n",
    "    print(content_list)"
   ]
  },
  {
   "cell_type": "code",
   "execution_count": 7,
   "metadata": {},
   "outputs": [
    {
     "name": "stdout",
     "output_type": "stream",
     "text": [
      "0 === \n",
      "\n",
      "1 === And so even though we face the difficulties of today and tomorrow, I still have a dream. It is a dream deeply rooted in the American dream.\n",
      "\n",
      "2 ===  \n",
      "\n",
      "3 === I have a dream that one day this nation will rise up and live out the true meaning of its creed:\n",
      "\n",
      "4 ===  \n",
      "\n"
     ]
    }
   ],
   "source": [
    "with open('test.txt', 'r') as my_file:\n",
    "    i = 0\n",
    "    while True:\n",
    "        line = my_file.readline()\n",
    "        if i == 5:\n",
    "            break\n",
    "        print(\"{0} === {1}\".format(i, line)) # 한줄씩 값을 출력\n",
    "        i = i + 1"
   ]
  },
  {
   "cell_type": "code",
   "execution_count": 8,
   "metadata": {},
   "outputs": [
    {
     "name": "stdout",
     "output_type": "stream",
     "text": [
      "Total Number of Character :  3306\n",
      "Total Number of Words :  602\n",
      "Total Number of Lines :  46\n"
     ]
    }
   ],
   "source": [
    "# word counter\n",
    "with open('test.txt', 'r') as my_file:\n",
    "    contents = my_file.read()\n",
    "    word_list = contents.split(\" \")\n",
    "    line_list = contents.split('\\n')\n",
    "    \n",
    "print('Total Number of Character : ', len(contents))\n",
    "print('Total Number of Words : ', len(word_list))\n",
    "print('Total Number of Lines : ', len(line_list))"
   ]
  },
  {
   "cell_type": "code",
   "execution_count": 9,
   "metadata": {},
   "outputs": [],
   "source": [
    "f = open('test.txt', 'w', encoding='utf8')\n",
    "for i in range(1, 11):\n",
    "    data = '{0}번째 줄입니다. \\n'.format(i)\n",
    "    f.write(data)\n",
    "    \n",
    "f.close()"
   ]
  },
  {
   "cell_type": "code",
   "execution_count": 19,
   "metadata": {},
   "outputs": [],
   "source": [
    "with open('test.txt', mode='a', encoding='utf8') as f:\n",
    "    for i in range(1,12):\n",
    "        data = '{0}번째 줄입니다. \\n'.format(i)\n",
    "        f.write(data)\n",
    "        \n",
    "f.close()"
   ]
  },
  {
   "cell_type": "code",
   "execution_count": 21,
   "metadata": {},
   "outputs": [],
   "source": [
    "# OS module\n",
    "import os\n",
    "os.mkdir('log')"
   ]
  },
  {
   "cell_type": "code",
   "execution_count": 22,
   "metadata": {},
   "outputs": [
    {
     "name": "stdout",
     "output_type": "stream",
     "text": [
      "Already created\n"
     ]
    }
   ],
   "source": [
    "try:\n",
    "    os.mkdir('log')\n",
    "except FileExistsError as e:\n",
    "    print('Already created')"
   ]
  },
  {
   "cell_type": "code",
   "execution_count": 24,
   "metadata": {},
   "outputs": [
    {
     "data": {
      "text/plain": [
       "True"
      ]
     },
     "execution_count": 24,
     "metadata": {},
     "output_type": "execute_result"
    }
   ],
   "source": [
    "os.path.exists('log')"
   ]
  },
  {
   "cell_type": "code",
   "execution_count": 25,
   "metadata": {},
   "outputs": [
    {
     "data": {
      "text/plain": [
       "True"
      ]
     },
     "execution_count": 25,
     "metadata": {},
     "output_type": "execute_result"
    }
   ],
   "source": [
    "os.path.isfile('file.ipynb')"
   ]
  },
  {
   "cell_type": "code",
   "execution_count": 26,
   "metadata": {},
   "outputs": [],
   "source": [
    "import pathlib"
   ]
  },
  {
   "cell_type": "code",
   "execution_count": 30,
   "metadata": {},
   "outputs": [
    {
     "name": "stdout",
     "output_type": "stream",
     "text": [
      "/Users/sky/Python/AI_Tech_PreCourse\n",
      "/Users/sky/Python\n"
     ]
    }
   ],
   "source": [
    "cwd = pathlib.Path.cwd()\n",
    "print(cwd.parent)\n",
    "print(cwd.parent.parent)"
   ]
  },
  {
   "cell_type": "code",
   "execution_count": 39,
   "metadata": {},
   "outputs": [],
   "source": [
    "# log 파일 생성\n",
    "\n",
    "import os\n",
    "if not os.path.isdir('log'):\n",
    "    os.mkdir('log')\n",
    "if not os.path.exists('log/count_log.txt'):\n",
    "    f = open('log/count_log.txt', 'w', encoding='utf8')\n",
    "    f.write('기록이 시작됩니다. \\n')\n",
    "    f.close()\n",
    "    \n",
    "with open('log/count_log.txt', 'a', encoding='utf8') as f:\n",
    "    import random, datetime\n",
    "    for i in range(1, 11):\n",
    "        stamp = str(datetime.datetime.now())\n",
    "        value = random.random() * 1000000\n",
    "        log_line = stamp + '\\t' + str(value) + '값이 생성되었습니다.' + '\\n'\n",
    "        f.write(log_line)"
   ]
  },
  {
   "cell_type": "code",
   "execution_count": 40,
   "metadata": {},
   "outputs": [],
   "source": [
    "# pickle\n",
    "\n",
    "import pickle\n",
    "\n",
    "f = open('list.pickle', 'wb')\n",
    "test = [1,2,3,4,5]\n",
    "pickle.dump(test, f)\n",
    "f.close()"
   ]
  },
  {
   "cell_type": "code",
   "execution_count": 43,
   "metadata": {},
   "outputs": [],
   "source": [
    "del test"
   ]
  },
  {
   "cell_type": "code",
   "execution_count": 45,
   "metadata": {},
   "outputs": [
    {
     "ename": "NameError",
     "evalue": "name 'test' is not defined",
     "output_type": "error",
     "traceback": [
      "\u001b[0;31m---------------------------------------------------------------------------\u001b[0m",
      "\u001b[0;31mNameError\u001b[0m                                 Traceback (most recent call last)",
      "Cell \u001b[0;32mIn [45], line 1\u001b[0m\n\u001b[0;32m----> 1\u001b[0m test\n",
      "\u001b[0;31mNameError\u001b[0m: name 'test' is not defined"
     ]
    }
   ],
   "source": [
    "test"
   ]
  },
  {
   "cell_type": "code",
   "execution_count": 46,
   "metadata": {},
   "outputs": [],
   "source": [
    "f = open('list.pickle', 'rb')\n",
    "test_pickle = pickle.load(f)\n",
    "test_pickle\n",
    "f.close()"
   ]
  },
  {
   "cell_type": "code",
   "execution_count": 47,
   "metadata": {},
   "outputs": [
    {
     "data": {
      "text/plain": [
       "[1, 2, 3, 4, 5]"
      ]
     },
     "execution_count": 47,
     "metadata": {},
     "output_type": "execute_result"
    }
   ],
   "source": [
    "test_pickle"
   ]
  },
  {
   "cell_type": "code",
   "execution_count": 48,
   "metadata": {},
   "outputs": [],
   "source": [
    "class Multiply(object):\n",
    "    def __init__(self, multiplier):\n",
    "        self.multiplier = multiplier\n",
    "        \n",
    "    def multiply(self, number):\n",
    "        return number * self.multiplier"
   ]
  },
  {
   "cell_type": "code",
   "execution_count": 49,
   "metadata": {},
   "outputs": [
    {
     "data": {
      "text/plain": [
       "500"
      ]
     },
     "execution_count": 49,
     "metadata": {},
     "output_type": "execute_result"
    }
   ],
   "source": [
    "multiply = Multiply(5)\n",
    "multiply.multiply(100)"
   ]
  },
  {
   "cell_type": "code",
   "execution_count": 50,
   "metadata": {},
   "outputs": [],
   "source": [
    "f = open('multiply_object.pickle', 'wb')\n",
    "pickle.dump(multiply, f)\n",
    "f.close()"
   ]
  },
  {
   "cell_type": "code",
   "execution_count": 51,
   "metadata": {},
   "outputs": [],
   "source": [
    "del multiply"
   ]
  },
  {
   "cell_type": "code",
   "execution_count": 52,
   "metadata": {},
   "outputs": [
    {
     "ename": "NameError",
     "evalue": "name 'multiply' is not defined",
     "output_type": "error",
     "traceback": [
      "\u001b[0;31m---------------------------------------------------------------------------\u001b[0m",
      "\u001b[0;31mNameError\u001b[0m                                 Traceback (most recent call last)",
      "Cell \u001b[0;32mIn [52], line 1\u001b[0m\n\u001b[0;32m----> 1\u001b[0m multiply\n",
      "\u001b[0;31mNameError\u001b[0m: name 'multiply' is not defined"
     ]
    }
   ],
   "source": [
    "multiply"
   ]
  },
  {
   "cell_type": "code",
   "execution_count": 53,
   "metadata": {},
   "outputs": [],
   "source": [
    "f = open('multiply_object.pickle', 'rb')\n",
    "multiply_pickle = pickle.load(f)\n"
   ]
  },
  {
   "cell_type": "code",
   "execution_count": 54,
   "metadata": {},
   "outputs": [
    {
     "data": {
      "text/plain": [
       "<__main__.Multiply at 0x107d5cd30>"
      ]
     },
     "execution_count": 54,
     "metadata": {},
     "output_type": "execute_result"
    }
   ],
   "source": [
    "multiply_pickle"
   ]
  },
  {
   "cell_type": "code",
   "execution_count": 55,
   "metadata": {},
   "outputs": [
    {
     "data": {
      "text/plain": [
       "500"
      ]
     },
     "execution_count": 55,
     "metadata": {},
     "output_type": "execute_result"
    }
   ],
   "source": [
    "multiply_pickle.multiply(100)"
   ]
  },
  {
   "cell_type": "code",
   "execution_count": null,
   "metadata": {},
   "outputs": [],
   "source": []
  }
 ],
 "metadata": {
  "kernelspec": {
   "display_name": "Python 3.10.5 64-bit ('3.10.5')",
   "language": "python",
   "name": "python3"
  },
  "language_info": {
   "codemirror_mode": {
    "name": "ipython",
    "version": 3
   },
   "file_extension": ".py",
   "mimetype": "text/x-python",
   "name": "python",
   "nbconvert_exporter": "python",
   "pygments_lexer": "ipython3",
   "version": "3.10.5"
  },
  "orig_nbformat": 4,
  "vscode": {
   "interpreter": {
    "hash": "7edc2447b8bb2a66b994343b17950b85ada37733c3431a3e95990855290494ee"
   }
  }
 },
 "nbformat": 4,
 "nbformat_minor": 2
}
